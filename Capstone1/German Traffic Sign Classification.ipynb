{
 "cells": [
  {
   "cell_type": "markdown",
   "metadata": {},
   "source": [
    "# German Traffic Sign Classification with Nueral Nets"
   ]
  },
  {
   "cell_type": "markdown",
   "metadata": {},
   "source": [
    "Waymo is currently testing self-driving cars in the streets of California. This has not only gotten a lot of attention in the US but around the world. There is a group of people in Germany who are looking to provide Waymo with some funding so that they can bring self-driving cars to the German public. While companies like Mercedes and BMW are already working on self-driving cars in Germany, this group of people think bringing in Waymo to Germany will spur innovation and competition. \n",
    "\n",
    "Before committing to this opportunity, the group of investors want to test Waymo's self driving models. While they are fairly confident that Waymo's cameras and models can identify people and cars correctly in Germany, they are a bit less confident when it comes to traffic signs given that there can be stark differences. Thus the group of investors want to provide Waymo with some German traffic sign image data and see how well their models can classify the signs. \n",
    "\n",
    "Waymo is also eager to expand its training outside of the country so they have agreed to take on the first challenge of properly classifying the German traffic sign data provided by the group of German investors. Given that traffic signs can be different around the world, Waymo has opted to build a new traffic sign classification model from start. They plan to build a CNN to help identify the image data.\n",
    "\n",
    "The image data provided is already in numerical representation so Waymo plans to do some simple image preprocessing before building a neural network. Given that this model is based on image classification there's not a lot of data analyzation or visualization that can possibly be done. They are just going to build a simple function so that they can visually sample some of the images. "
   ]
  },
  {
   "cell_type": "markdown",
   "metadata": {},
   "source": [
    "## Importing Libraries"
   ]
  },
  {
   "cell_type": "code",
   "execution_count": 1,
   "metadata": {},
   "outputs": [
    {
     "name": "stderr",
     "output_type": "stream",
     "text": [
      "Using TensorFlow backend.\n"
     ]
    },
    {
     "name": "stdout",
     "output_type": "stream",
     "text": [
      "Populating the interactive namespace from numpy and matplotlib\n"
     ]
    }
   ],
   "source": [
    "import pandas as pd\n",
    "import matplotlib.pyplot as plt\n",
    "from PIL import Image\n",
    "import numpy as np\n",
    "import matplotlib.image as mpimg\n",
    "import time\n",
    "import numpy as np\n",
    "import h5py\n",
    "import matplotlib.pyplot as plt\n",
    "import scipy\n",
    "from PIL import Image\n",
    "from scipy import ndimage\n",
    "from keras import layers\n",
    "from keras.layers import Input, Dense, Activation, ZeroPadding2D, BatchNormalization, Flatten, Conv2D\n",
    "from keras.layers import AveragePooling2D, MaxPooling2D, Dropout, GlobalMaxPooling2D, GlobalAveragePooling2D\n",
    "from keras.models import Model\n",
    "from keras.preprocessing import image\n",
    "from keras.utils import layer_utils\n",
    "from keras.utils.data_utils import get_file\n",
    "from keras.applications.imagenet_utils import preprocess_input\n",
    "#import pydot\n",
    "#from IPython.display import SVG\n",
    "from keras.utils.vis_utils import model_to_dot\n",
    "from keras.utils import plot_model\n",
    "#from kt_utils import *\n",
    "\n",
    "import keras.backend as K\n",
    "K.set_image_data_format('channels_last')\n",
    "%matplotlib inline\n",
    "%pylab inline\n",
    "np.random.seed(1)"
   ]
  },
  {
   "cell_type": "markdown",
   "metadata": {},
   "source": [
    "## Importing Data"
   ]
  },
  {
   "cell_type": "code",
   "execution_count": 2,
   "metadata": {},
   "outputs": [
    {
     "data": {
      "text/plain": [
       "{'x_test': array([[[[ 58.,  59.,  61., ..., 202., 205., 203.],\n",
       "          [ 49.,  52.,  55., ..., 204., 206., 204.],\n",
       "          [ 44.,  49.,  54., ..., 210., 203., 203.],\n",
       "          ...,\n",
       "          [ 66.,  99., 103., ...,  79.,  60.,  58.],\n",
       "          [ 63., 102., 103., ...,  78.,  61.,  49.],\n",
       "          [ 67.,  95.,  78., ...,  79.,  58.,  58.]],\n",
       " \n",
       "         [[ 51.,  51.,  47., ..., 215., 216., 216.],\n",
       "          [ 45.,  52.,  51., ..., 216., 218., 217.],\n",
       "          [ 40.,  47.,  48., ..., 220., 222., 218.],\n",
       "          ...,\n",
       "          [ 57.,  82.,  82., ...,  82.,  60.,  59.],\n",
       "          [ 59.,  87.,  85., ...,  84.,  59.,  49.],\n",
       "          [ 57.,  91.,  67., ...,  87.,  65.,  53.]],\n",
       " \n",
       "         [[ 42.,  39.,  36., ..., 232., 233., 234.],\n",
       "          [ 37.,  44.,  43., ..., 234., 236., 236.],\n",
       "          [ 35.,  41.,  43., ..., 239., 242., 236.],\n",
       "          ...,\n",
       "          [ 41.,  74.,  82., ...,  66.,  50.,  52.],\n",
       "          [ 46.,  78.,  81., ...,  70.,  51.,  47.],\n",
       "          [ 45.,  83.,  64., ...,  75.,  57.,  49.]]],\n",
       " \n",
       " \n",
       "        [[[149., 172., 189., ...,  74.,  77.,  80.],\n",
       "          [154., 179., 196., ...,  88.,  89.,  88.],\n",
       "          [156., 184., 200., ..., 114., 116., 120.],\n",
       "          ...,\n",
       "          [ 32.,  32.,  97., ...,  53.,  40.,  47.],\n",
       "          [ 34.,  35.,  95., ...,  54.,  39.,  47.],\n",
       "          [ 42.,  42.,  96., ...,  53.,  38.,  44.]],\n",
       " \n",
       "         [[126., 164., 181., ...,  59.,  61.,  63.],\n",
       "          [133., 168., 183., ...,  69.,  71.,  70.],\n",
       "          [136., 168., 179., ..., 100., 102., 106.],\n",
       "          ...,\n",
       "          [ 26.,  28.,  93., ...,  38.,  33.,  46.],\n",
       "          [ 29.,  30.,  90., ...,  39.,  33.,  45.],\n",
       "          [ 35.,  36.,  91., ...,  39.,  32.,  46.]],\n",
       " \n",
       "         [[132., 173., 186., ...,  59.,  60.,  60.],\n",
       "          [140., 177., 186., ...,  67.,  69.,  68.],\n",
       "          [143., 176., 183., ...,  96., 104., 111.],\n",
       "          ...,\n",
       "          [ 25.,  35., 114., ...,  35.,  37.,  55.],\n",
       "          [ 29.,  37., 110., ...,  33.,  38.,  54.],\n",
       "          [ 39.,  44., 106., ...,  32.,  39.,  64.]]],\n",
       " \n",
       " \n",
       "        [[[ 53.,  46.,  22., ...,  25.,  26.,  24.],\n",
       "          [ 49.,  48.,  20., ...,  25.,  27.,  23.],\n",
       "          [ 52.,  52.,  25., ...,  28.,  28.,  26.],\n",
       "          ...,\n",
       "          [ 48.,  49.,  43., ...,  21.,  25.,  26.],\n",
       "          [ 46.,  44.,  39., ...,  23.,  28.,  29.],\n",
       "          [ 39.,  38.,  37., ...,  26.,  28.,  27.]],\n",
       " \n",
       "         [[ 44.,  46.,  27., ...,  23.,  22.,  22.],\n",
       "          [ 38.,  45.,  22., ...,  24.,  25.,  21.],\n",
       "          [ 40.,  47.,  24., ...,  27.,  25.,  22.],\n",
       "          ...,\n",
       "          [ 44.,  44.,  36., ...,  20.,  23.,  25.],\n",
       "          [ 41.,  40.,  35., ...,  21.,  23.,  26.],\n",
       "          [ 35.,  35.,  36., ...,  26.,  26.,  26.]],\n",
       " \n",
       "         [[ 55.,  65.,  37., ...,  23.,  22.,  21.],\n",
       "          [ 50.,  65.,  31., ...,  25.,  26.,  23.],\n",
       "          [ 51.,  65.,  33., ...,  27.,  25.,  23.],\n",
       "          ...,\n",
       "          [ 45.,  44.,  37., ...,  21.,  25.,  27.],\n",
       "          [ 42.,  40.,  38., ...,  22.,  23.,  27.],\n",
       "          [ 33.,  35.,  41., ...,  27.,  25.,  24.]]],\n",
       " \n",
       " \n",
       "        ...,\n",
       " \n",
       " \n",
       "        [[[119., 119., 117., ..., 126., 128., 125.],\n",
       "          [121., 118., 119., ..., 126., 125., 125.],\n",
       "          [118., 117., 118., ..., 122., 124., 123.],\n",
       "          ...,\n",
       "          [ 15.,  16.,  17., ...,  26.,  28.,  31.],\n",
       "          [ 15.,  15.,  16., ...,  22.,  23.,  25.],\n",
       "          [ 15.,  16.,  16., ...,  20.,  21.,  20.]],\n",
       " \n",
       "         [[134., 135., 134., ..., 141., 143., 140.],\n",
       "          [137., 133., 134., ..., 143., 141., 140.],\n",
       "          [135., 132., 132., ..., 140., 141., 139.],\n",
       "          ...,\n",
       "          [ 15.,  16.,  16., ...,  26.,  28.,  30.],\n",
       "          [ 15.,  15.,  16., ...,  22.,  23.,  25.],\n",
       "          [ 15.,  16.,  16., ...,  20.,  21.,  21.]],\n",
       " \n",
       "         [[165., 165., 164., ..., 169., 171., 167.],\n",
       "          [168., 162., 164., ..., 171., 169., 167.],\n",
       "          [165., 161., 161., ..., 169., 169., 167.],\n",
       "          ...,\n",
       "          [ 20.,  21.,  20., ...,  32.,  34.,  37.],\n",
       "          [ 21.,  21.,  21., ...,  27.,  28.,  31.],\n",
       "          [ 20.,  21.,  21., ...,  25.,  26.,  26.]]],\n",
       " \n",
       " \n",
       "        [[[ 32.,  41.,  52., ...,  65.,  62.,  62.],\n",
       "          [ 33.,  39.,  52., ...,  61.,  53.,  55.],\n",
       "          [ 39.,  30.,  41., ...,  62.,  55.,  62.],\n",
       "          ...,\n",
       "          [104., 107., 103., ...,  72.,  72.,  82.],\n",
       "          [103., 101., 101., ...,  71.,  73.,  74.],\n",
       "          [ 93.,  90.,  87., ...,  73.,  75.,  70.]],\n",
       " \n",
       "         [[ 17.,  16.,  24., ...,  50.,  48.,  44.],\n",
       "          [ 21.,  21.,  34., ...,  50.,  42.,  44.],\n",
       "          [ 32.,  23.,  35., ...,  54.,  43.,  50.],\n",
       "          ...,\n",
       "          [ 84.,  82.,  78., ...,  61.,  64.,  65.],\n",
       "          [ 83.,  80.,  78., ...,  62.,  63.,  57.],\n",
       "          [ 78.,  77.,  74., ...,  65.,  64.,  59.]],\n",
       " \n",
       "         [[ 17.,  19.,  28., ...,  36.,  37.,  36.],\n",
       "          [ 22.,  27.,  53., ...,  38.,  33.,  36.],\n",
       "          [ 34.,  30.,  54., ...,  37.,  35.,  42.],\n",
       "          ...,\n",
       "          [ 70.,  70.,  71., ...,  56.,  64.,  60.],\n",
       "          [ 67.,  65.,  68., ...,  61.,  58.,  50.],\n",
       "          [ 63.,  65.,  66., ...,  63.,  58.,  52.]]],\n",
       " \n",
       " \n",
       "        [[[ 12.,  14.,  14., ...,  13.,  14.,  13.],\n",
       "          [ 11.,  13.,  13., ...,  12.,  13.,  12.],\n",
       "          [ 11.,  12.,  12., ...,  12.,  13.,  12.],\n",
       "          ...,\n",
       "          [ 12.,  13.,  15., ...,  13.,  13.,  12.],\n",
       "          [ 11.,  12.,  14., ...,  12.,  12.,  12.],\n",
       "          [ 13.,  13.,  13., ...,  10.,  11.,  10.]],\n",
       " \n",
       "         [[ 14.,  15.,  15., ...,  14.,  15.,  14.],\n",
       "          [ 14.,  14.,  14., ...,  14.,  13.,  12.],\n",
       "          [ 14.,  14.,  13., ...,  14.,  14.,  13.],\n",
       "          ...,\n",
       "          [ 13.,  14.,  15., ...,  14.,  14.,  13.],\n",
       "          [ 13.,  13.,  14., ...,  13.,  13.,  13.],\n",
       "          [ 15.,  15.,  15., ...,  12.,  13.,  12.]],\n",
       " \n",
       "         [[ 20.,  20.,  18., ...,  19.,  18.,  18.],\n",
       "          [ 20.,  20.,  18., ...,  18.,  17.,  16.],\n",
       "          [ 20.,  20.,  19., ...,  20.,  20.,  17.],\n",
       "          ...,\n",
       "          [ 19.,  19.,  19., ...,  20.,  20.,  19.],\n",
       "          [ 17.,  17.,  18., ...,  18.,  18.,  18.],\n",
       "          [ 20.,  19.,  19., ...,  18.,  18.,  18.]]]], dtype=float32),\n",
       " 'y_validation': array([ 9, 37, 31, ...,  5, 18,  6], dtype=uint8),\n",
       " 'x_validation': array([[[[ 21.,  21.,  20., ...,  20.,  22.,  21.],\n",
       "          [ 22.,  22.,  22., ...,  21.,  20.,  20.],\n",
       "          [ 22.,  21.,  21., ...,  22.,  21.,  21.],\n",
       "          ...,\n",
       "          [ 23.,  23.,  21., ...,  22.,  35.,  46.],\n",
       "          [ 22.,  22.,  21., ...,  22.,  42.,  57.],\n",
       "          [ 22.,  21.,  22., ...,  24.,  51.,  68.]],\n",
       " \n",
       "         [[ 19.,  19.,  18., ...,  18.,  19.,  18.],\n",
       "          [ 19.,  19.,  19., ...,  18.,  17.,  17.],\n",
       "          [ 18.,  19.,  18., ...,  19.,  17.,  17.],\n",
       "          ...,\n",
       "          [ 18.,  19.,  18., ...,  18.,  28.,  36.],\n",
       "          [ 18.,  18.,  18., ...,  18.,  34.,  42.],\n",
       "          [ 18.,  17.,  17., ...,  20.,  40.,  46.]],\n",
       " \n",
       "         [[ 18.,  18.,  16., ...,  16.,  17.,  17.],\n",
       "          [ 18.,  17.,  16., ...,  17.,  15.,  15.],\n",
       "          [ 17.,  18.,  17., ...,  18.,  16.,  16.],\n",
       "          ...,\n",
       "          [ 17.,  17.,  17., ...,  17.,  25.,  30.],\n",
       "          [ 18.,  18.,  16., ...,  15.,  28.,  33.],\n",
       "          [ 18.,  16.,  16., ...,  19.,  38.,  41.]]],\n",
       " \n",
       " \n",
       "        [[[128., 123., 106., ..., 124., 140.,  98.],\n",
       "          [185., 158.,  96., ..., 216., 224., 168.],\n",
       "          [217., 141., 123., ..., 219., 241., 235.],\n",
       "          ...,\n",
       "          [250., 242., 243., ..., 123., 101.,  91.],\n",
       "          [245., 227., 242., ..., 126., 167., 113.],\n",
       "          [247., 249., 244., ..., 168., 196., 147.]],\n",
       " \n",
       "         [[112.,  97.,  99., ...,  90.,  87.,  75.],\n",
       "          [180., 105.,  79., ..., 174., 181., 133.],\n",
       "          [206., 110.,  97., ..., 202., 232., 235.],\n",
       "          ...,\n",
       "          [236., 221., 232., ...,  92.,  91.,  90.],\n",
       "          [210., 168., 222., ..., 102., 123., 105.],\n",
       "          [228., 223., 228., ..., 144., 156., 132.]],\n",
       " \n",
       "         [[ 58.,  56.,  59., ...,  56.,  47.,  44.],\n",
       "          [ 82.,  57.,  51., ...,  86.,  81.,  68.],\n",
       "          [ 81.,  50.,  75., ..., 127., 147., 120.],\n",
       "          ...,\n",
       "          [161., 116., 127., ...,  61.,  61.,  55.],\n",
       "          [117.,  90., 121., ...,  55.,  78.,  58.],\n",
       "          [143., 167., 159., ...,  66.,  89.,  62.]]],\n",
       " \n",
       " \n",
       "        [[[255., 255., 255., ..., 255., 255., 255.],\n",
       "          [255., 255., 255., ..., 255., 255., 255.],\n",
       "          [255., 255., 255., ..., 255., 255., 255.],\n",
       "          ...,\n",
       "          [ 26.,  25.,  24., ...,  43.,  36.,  35.],\n",
       "          [ 24.,  24.,  23., ...,  35.,  36.,  36.],\n",
       "          [ 24.,  24.,  23., ...,  33.,  34.,  37.]],\n",
       " \n",
       "         [[255., 255., 255., ..., 255., 255., 255.],\n",
       "          [255., 255., 255., ..., 255., 255., 255.],\n",
       "          [255., 255., 255., ..., 255., 255., 255.],\n",
       "          ...,\n",
       "          [ 24.,  24.,  23., ...,  41.,  32.,  31.],\n",
       "          [ 23.,  22.,  21., ...,  30.,  31.,  31.],\n",
       "          [ 22.,  21.,  21., ...,  29.,  30.,  31.]],\n",
       " \n",
       "         [[255., 255., 255., ..., 255., 255., 255.],\n",
       "          [255., 255., 255., ..., 255., 255., 255.],\n",
       "          [255., 255., 255., ..., 255., 255., 255.],\n",
       "          ...,\n",
       "          [ 23.,  23.,  22., ...,  38.,  30.,  31.],\n",
       "          [ 22.,  21.,  20., ...,  28.,  28.,  30.],\n",
       "          [ 22.,  20.,  20., ...,  27.,  27.,  29.]]],\n",
       " \n",
       " \n",
       "        ...,\n",
       " \n",
       " \n",
       "        [[[ 62.,  60.,  59., ...,  55.,  54.,  53.],\n",
       "          [ 57.,  58.,  60., ...,  51.,  53.,  52.],\n",
       "          [ 56.,  58.,  60., ...,  49.,  49.,  50.],\n",
       "          ...,\n",
       "          [ 47.,  53., 101., ..., 118., 105., 124.],\n",
       "          [ 44.,  53., 102., ..., 148., 109., 145.],\n",
       "          [ 44.,  53., 101., ..., 128., 106., 137.]],\n",
       " \n",
       "         [[ 52.,  50.,  48., ...,  42.,  41.,  41.],\n",
       "          [ 50.,  50.,  49., ...,  40.,  43.,  42.],\n",
       "          [ 51.,  51.,  49., ...,  39.,  40.,  41.],\n",
       "          ...,\n",
       "          [ 40.,  48.,  97., ..., 112.,  97., 113.],\n",
       "          [ 40.,  50.,  99., ..., 140., 101., 128.],\n",
       "          [ 39.,  51., 100., ..., 130.,  97., 121.]],\n",
       " \n",
       "         [[ 47.,  45.,  43., ...,  40.,  40.,  40.],\n",
       "          [ 45.,  44.,  43., ...,  39.,  42.,  42.],\n",
       "          [ 47.,  47.,  44., ...,  38.,  40.,  42.],\n",
       "          ...,\n",
       "          [ 38.,  45.,  87., ...,  98.,  94., 127.],\n",
       "          [ 38.,  48.,  90., ..., 130.,  94., 128.],\n",
       "          [ 37.,  49.,  94., ..., 124.,  87., 104.]]],\n",
       " \n",
       " \n",
       "        [[[255., 255., 255., ..., 255., 255., 255.],\n",
       "          [255., 255., 255., ..., 255., 255., 255.],\n",
       "          [255., 255., 255., ..., 247., 255., 255.],\n",
       "          ...,\n",
       "          [255., 255., 241., ..., 168.,  99.,  87.],\n",
       "          [255., 255., 255., ..., 184.,  96.,  90.],\n",
       "          [255., 255., 255., ..., 118.,  86.,  96.]],\n",
       " \n",
       "         [[255., 255., 255., ..., 255., 255., 255.],\n",
       "          [255., 255., 255., ..., 255., 255., 255.],\n",
       "          [255., 255., 255., ..., 249., 255., 255.],\n",
       "          ...,\n",
       "          [255., 255., 237., ..., 170.,  96.,  89.],\n",
       "          [255., 255., 255., ..., 183.,  95.,  87.],\n",
       "          [255., 255., 255., ..., 119.,  84.,  85.]],\n",
       " \n",
       "         [[255., 255., 255., ..., 255., 255., 255.],\n",
       "          [255., 255., 255., ..., 255., 255., 255.],\n",
       "          [255., 255., 255., ..., 250., 255., 255.],\n",
       "          ...,\n",
       "          [255., 255., 237., ..., 191., 109.,  93.],\n",
       "          [255., 255., 255., ..., 197., 104.,  91.],\n",
       "          [255., 255., 255., ..., 131.,  89.,  88.]]],\n",
       " \n",
       " \n",
       "        [[[ 15.,   9.,  15., ...,  26.,  26.,  29.],\n",
       "          [ 16.,  10.,  16., ...,  24.,  26.,  30.],\n",
       "          [ 15.,  10.,  15., ...,  25.,  27.,  29.],\n",
       "          ...,\n",
       "          [ 15.,  14.,  14., ...,  26.,  25.,  24.],\n",
       "          [ 16.,  14.,  15., ...,  25.,  23.,  24.],\n",
       "          [ 15.,  15.,  15., ...,  26.,  22.,  22.]],\n",
       " \n",
       "         [[ 25.,  20.,  28., ...,  23.,  23.,  26.],\n",
       "          [ 26.,  21.,  28., ...,  22.,  24.,  28.],\n",
       "          [ 25.,  22.,  28., ...,  23.,  25.,  27.],\n",
       "          ...,\n",
       "          [ 26.,  25.,  25., ...,  24.,  24.,  23.],\n",
       "          [ 27.,  25.,  26., ...,  24.,  23.,  24.],\n",
       "          [ 26.,  26.,  26., ...,  25.,  22.,  23.]],\n",
       " \n",
       "         [[ 51.,  42.,  48., ...,  28.,  29.,  32.],\n",
       "          [ 53.,  43.,  49., ...,  28.,  32.,  33.],\n",
       "          [ 50.,  42.,  48., ...,  28.,  31.,  32.],\n",
       "          ...,\n",
       "          [ 50.,  49.,  47., ...,  27.,  28.,  27.],\n",
       "          [ 54.,  50.,  49., ...,  27.,  26.,  28.],\n",
       "          [ 53.,  51.,  51., ...,  28.,  25.,  26.]]]], dtype=float32),\n",
       " 'labels': ['Speed limit (20km/h)',\n",
       "  'Speed limit (30km/h)',\n",
       "  'Speed limit (50km/h)',\n",
       "  'Speed limit (60km/h)',\n",
       "  'Speed limit (70km/h)',\n",
       "  'Speed limit (80km/h)',\n",
       "  'End of speed limit (80km/h)',\n",
       "  'Speed limit (100km/h)',\n",
       "  'Speed limit (120km/h)',\n",
       "  'No passing',\n",
       "  'No passing for vehicles over 3.5 metric tons',\n",
       "  'Right-of-way at the next intersection',\n",
       "  'Priority road',\n",
       "  'Yield',\n",
       "  'Stop',\n",
       "  'No vehicles',\n",
       "  'Vehicles over 3.5 metric tons prohibited',\n",
       "  'No entry',\n",
       "  'General caution',\n",
       "  'Dangerous curve to the left',\n",
       "  'Dangerous curve to the right',\n",
       "  'Double curve',\n",
       "  'Bumpy road',\n",
       "  'Slippery road',\n",
       "  'Road narrows on the right',\n",
       "  'Road work',\n",
       "  'Traffic signals',\n",
       "  'Pedestrians',\n",
       "  'Children crossing',\n",
       "  'Bicycles crossing',\n",
       "  'Beware of ice/snow',\n",
       "  'Wild animals crossing',\n",
       "  'End of all speed and passing limits',\n",
       "  'Turn right ahead',\n",
       "  'Turn left ahead',\n",
       "  'Ahead only',\n",
       "  'Go straight or right',\n",
       "  'Go straight or left',\n",
       "  'Keep right',\n",
       "  'Keep left',\n",
       "  'Roundabout mandatory',\n",
       "  'End of no passing',\n",
       "  'End of no passing by vehicles over 3.5 metric tons'],\n",
       " 'x_train': array([[[[ 13,  60,  57, ...,  19,  14,  10],\n",
       "          [ 15,  56,  57, ...,  49,  42,  34],\n",
       "          [ 17,  56,  57, ...,  48,  38,  32],\n",
       "          ...,\n",
       "          [ 35,  41,  45, ...,  58,  59,  21],\n",
       "          [ 37,  39,  44, ...,  58,  58,  17],\n",
       "          [  8,  10,  13, ...,  57,  57,  16]],\n",
       " \n",
       "         [[ 12,  56,  52, ...,  17,  13,  10],\n",
       "          [ 13,  50,  50, ...,  44,  39,  33],\n",
       "          [ 15,  49,  50, ...,  42,  34,  28],\n",
       "          ...,\n",
       "          [ 35,  41,  45, ...,  54,  54,  20],\n",
       "          [ 36,  38,  41, ...,  54,  54,  16],\n",
       "          [  7,  10,  13, ...,  53,  53,  14]],\n",
       " \n",
       "         [[ 11,  51,  45, ...,  17,  13,   9],\n",
       "          [ 12,  45,  44, ...,  43,  38,  30],\n",
       "          [ 13,  44,  43, ...,  41,  31,  24],\n",
       "          ...,\n",
       "          [ 27,  34,  38, ...,  48,  48,  18],\n",
       "          [ 27,  30,  34, ...,  48,  49,  14],\n",
       "          [  5,   7,   9, ...,  47,  48,  13]]],\n",
       " \n",
       " \n",
       "        [[[ 13,  17,  18, ...,  28,  30,  14],\n",
       "          [ 28,  35,  36, ...,  28,  29,  14],\n",
       "          [ 27,  33,  37, ...,  27,  28,  15],\n",
       "          ...,\n",
       "          [ 25,  37,  26, ...,  66,  71,  42],\n",
       "          [ 27,  48,  37, ...,  69,  70,  42],\n",
       "          [ 27,  56,  48, ...,  39,  37,  21]],\n",
       " \n",
       "         [[ 11,  15,  19, ...,  26,  26,  12],\n",
       "          [ 25,  31,  34, ...,  24,  26,  13],\n",
       "          [ 26,  29,  34, ...,  24,  25,  14],\n",
       "          ...,\n",
       "          [ 25,  40,  31, ...,  59,  73,  48],\n",
       "          [ 28,  50,  41, ...,  60,  73,  46],\n",
       "          [ 29,  57,  50, ...,  33,  38,  22]],\n",
       " \n",
       "         [[  9,  11,  14, ...,  23,  24,  11],\n",
       "          [ 20,  23,  27, ...,  22,  24,  12],\n",
       "          [ 21,  22,  26, ...,  22,  24,  13],\n",
       "          ...,\n",
       "          [ 28,  43,  30, ...,  52,  78,  55],\n",
       "          [ 30,  54,  45, ...,  53,  78,  55],\n",
       "          [ 29,  58,  52, ...,  29,  41,  27]]],\n",
       " \n",
       " \n",
       "        [[[ 25,  25,  26, ...,  68,  44,  29],\n",
       "          [ 26,  26,  25, ...,  66,  44,  30],\n",
       "          [ 26,  25,  24, ...,  66,  44,  30],\n",
       "          ...,\n",
       "          [255, 250, 208, ...,  74,  69,  70],\n",
       "          [255, 249, 198, ...,  74,  78,  61],\n",
       "          [253, 249, 200, ...,  75,  83,  64]],\n",
       " \n",
       "         [[ 28,  27,  27, ...,  70,  52,  31],\n",
       "          [ 28,  28,  27, ...,  69,  51,  31],\n",
       "          [ 28,  28,  28, ...,  68,  52,  31],\n",
       "          ...,\n",
       "          [255, 255, 231, ...,  79,  78,  65],\n",
       "          [254, 255, 231, ...,  78,  84,  66],\n",
       "          [238, 255, 229, ...,  79,  87,  70]],\n",
       " \n",
       "         [[ 34,  33,  33, ...,  79,  62,  34],\n",
       "          [ 35,  34,  33, ...,  77,  62,  35],\n",
       "          [ 34,  34,  33, ...,  76,  62,  34],\n",
       "          ...,\n",
       "          [255, 255, 246, ...,  84,  84,  65],\n",
       "          [250, 255, 249, ...,  82,  94,  75],\n",
       "          [226, 254, 247, ...,  85,  96,  78]]],\n",
       " \n",
       " \n",
       "        ...,\n",
       " \n",
       " \n",
       "        [[[  0, 144, 178, ...,   6,   3,   2],\n",
       "          [  9, 158, 178, ...,  40,  35,  35],\n",
       "          [ 22, 182, 201, ...,  68,  58,  47],\n",
       "          ...,\n",
       "          [205, 205, 205, ...,  62,  62,  12],\n",
       "          [199, 205, 205, ...,  56,  58,   7],\n",
       "          [  0,  12,  25, ...,  51,  52,   3]],\n",
       " \n",
       "         [[  0, 127, 160, ...,   8,   5,   2],\n",
       "          [  8, 143, 171, ...,  51,  47,  44],\n",
       "          [ 19, 168, 197, ...,  75,  66,  57],\n",
       "          ...,\n",
       "          [205, 205, 205, ...,  58,  57,  11],\n",
       "          [199, 205, 205, ...,  56,  54,   7],\n",
       "          [  0,  12,  25, ...,  51,  47,   3]],\n",
       " \n",
       "         [[  0, 116, 153, ...,  12,   8,   4],\n",
       "          [  7, 133, 165, ...,  72,  67,  63],\n",
       "          [ 18, 157, 194, ..., 100,  91,  80],\n",
       "          ...,\n",
       "          [205, 205, 205, ...,  53,  46,   8],\n",
       "          [199, 205, 205, ...,  52,  46,   5],\n",
       "          [  0,  12,  25, ...,  47,  41,   2]]],\n",
       " \n",
       " \n",
       "        [[[ 80, 198, 198, ..., 105,  93,  87],\n",
       "          [ 87, 198, 198, ..., 198, 198, 198],\n",
       "          [ 93, 198, 198, ..., 198, 198, 198],\n",
       "          ...,\n",
       "          [198, 198, 198, ..., 198, 198, 105],\n",
       "          [198, 198, 198, ..., 198, 198,  93],\n",
       "          [ 80,  87,  93, ..., 198, 198,  87]],\n",
       " \n",
       "         [[ 80, 198, 198, ..., 105,  93,  87],\n",
       "          [ 87, 198, 198, ..., 198, 198, 198],\n",
       "          [ 93, 198, 198, ..., 198, 198, 198],\n",
       "          ...,\n",
       "          [198, 198, 198, ..., 198, 198, 105],\n",
       "          [198, 198, 198, ..., 198, 198,  93],\n",
       "          [ 80,  87,  93, ..., 198, 198,  87]],\n",
       " \n",
       "         [[ 80, 198, 198, ..., 105,  93,  87],\n",
       "          [ 87, 198, 198, ..., 198, 198, 198],\n",
       "          [ 93, 198, 198, ..., 198, 198, 198],\n",
       "          ...,\n",
       "          [198, 198, 198, ..., 198, 198, 105],\n",
       "          [198, 198, 198, ..., 198, 198,  93],\n",
       "          [ 80,  87,  93, ..., 198, 198,  87]]],\n",
       " \n",
       " \n",
       "        [[[  0,   0,  65, ...,   0,   0,   0],\n",
       "          [  0,   0,  92, ...,  14,   0,   0],\n",
       "          [  0,   0, 113, ..., 160, 130, 100],\n",
       "          ...,\n",
       "          [ 19,  30,  43, ...,  70,   3,   0],\n",
       "          [  0,   0,   0, ...,  65,   0,   0],\n",
       "          [  0,   0,   0, ...,  58,   0,   0]],\n",
       " \n",
       "         [[  0,   0,  84, ...,   0,   0,   0],\n",
       "          [  0,   0, 112, ...,  15,   0,   0],\n",
       "          [  0,   0, 138, ..., 168, 151, 125],\n",
       "          ...,\n",
       "          [ 20,  27,  38, ...,  90,   4,   0],\n",
       "          [  0,   0,   0, ...,  86,   0,   0],\n",
       "          [  0,   0,   0, ...,  72,   0,   0]],\n",
       " \n",
       "         [[  0,   0,  96, ...,   0,   0,   0],\n",
       "          [  0,   0, 125, ...,  15,   0,   0],\n",
       "          [  0,   0, 152, ..., 168, 152, 125],\n",
       "          ...,\n",
       "          [ 20,  28,  40, ...,  98,   5,   0],\n",
       "          [  0,   0,   0, ..., 102,   0,   0],\n",
       "          [  0,   0,   0, ...,  94,   0,   0]]]], dtype=uint8),\n",
       " 'y_test': array([25, 11, 38, ...,  8, 33, 10], dtype=uint8),\n",
       " 'y_train': array([37, 27, 38, ..., 11, 14, 30], dtype=int64)}"
      ]
     },
     "execution_count": 2,
     "metadata": {},
     "output_type": "execute_result"
    }
   ],
   "source": [
    "allDataInDict=pd.read_pickle(\"./data0.pickle\")\n",
    "allDataInDict"
   ]
  },
  {
   "cell_type": "code",
   "execution_count": 3,
   "metadata": {},
   "outputs": [
    {
     "data": {
      "text/plain": [
       "dict_keys(['x_test', 'y_validation', 'x_validation', 'labels', 'x_train', 'y_test', 'y_train'])"
      ]
     },
     "execution_count": 3,
     "metadata": {},
     "output_type": "execute_result"
    }
   ],
   "source": [
    "allDataInDict.keys()"
   ]
  },
  {
   "cell_type": "code",
   "execution_count": 4,
   "metadata": {},
   "outputs": [
    {
     "name": "stdout",
     "output_type": "stream",
     "text": [
      "Train Data Shape: (86989, 3, 32, 32)\n",
      "Validation Data Shape: (4410, 3, 32, 32)\n",
      "Test Data Shape: (12630, 3, 32, 32)\n"
     ]
    }
   ],
   "source": [
    "print(\"Train Data Shape: {}\".format(allDataInDict[\"x_train\"].shape))\n",
    "print(\"Validation Data Shape: {}\".format(allDataInDict[\"x_validation\"].shape))\n",
    "print(\"Test Data Shape: {}\".format(allDataInDict[\"x_test\"].shape))"
   ]
  },
  {
   "cell_type": "code",
   "execution_count": 5,
   "metadata": {},
   "outputs": [],
   "source": [
    "trainX=np.array(allDataInDict['x_train'],dtype=np.float32)\n",
    "trainY=np.array(allDataInDict['y_train'],dtype=np.float32)\n",
    "validationX=np.array(allDataInDict['x_validation'],dtype=np.float32)\n",
    "validationY=np.array(allDataInDict['y_validation'],dtype=np.float32)\n",
    "testX=np.array(allDataInDict['x_test'],dtype=np.float32)\n",
    "testY=np.array(allDataInDict['y_test'],dtype=np.float32)"
   ]
  },
  {
   "cell_type": "markdown",
   "metadata": {},
   "source": [
    "## Viewing some sample images"
   ]
  },
  {
   "cell_type": "code",
   "execution_count": 6,
   "metadata": {},
   "outputs": [],
   "source": [
    "def showImage(imageArray):\n",
    "    array = np.zeros([32, 32, 3], dtype=np.uint8)\n",
    "    array[:,:,0]=imageArray[0]\n",
    "    array[:,:,1]=imageArray[1]\n",
    "    array[:,:,2]=imageArray[2]\n",
    "    img = Image.fromarray(array, 'RGB')\n",
    "    img.save('my.png')\n",
    "    #img.show()\n",
    "    img=mpimg.imread('my.png')\n",
    "    imgplot = plt.imshow(img)\n",
    "    plt.show()\n",
    "    "
   ]
  },
  {
   "cell_type": "code",
   "execution_count": 7,
   "metadata": {},
   "outputs": [
    {
     "data": {
      "image/png": "[encoded data removed]",
      "text/plain": [
       "<Figure size 432x288 with 1 Axes>"
      ]
     },
     "metadata": {
      "needs_background": "light"
     },
     "output_type": "display_data"
    }
   ],
   "source": [
    "showImage(allDataInDict['x_train'][0])"
   ]
  },
  {
   "cell_type": "code",
   "execution_count": 8,
   "metadata": {},
   "outputs": [
    {
     "data": {
      "image/png": "[encoded data removed]",
      "text/plain": [
       "<Figure size 432x288 with 1 Axes>"
      ]
     },
     "metadata": {
      "needs_background": "light"
     },
     "output_type": "display_data"
    }
   ],
   "source": [
    "showImage(allDataInDict['x_test'][0])"
   ]
  },
  {
   "cell_type": "markdown",
   "metadata": {},
   "source": [
    "## Pixel Scaling and Normalization"
   ]
  },
  {
   "cell_type": "markdown",
   "metadata": {},
   "source": [
    "Neural networks process inputs using small weight values, and inputs with large integer values can disrupt or slow down the learning process. As such it is good practice to normalize the pixel values so that each pixel value has a value between 0 and 1. This can be achieved by dividing all pixels values by the largest pixel value; that is 255.\n",
    "\n",
    "A popular data preparation technique for image data is to subtract the mean value from the pixel values. This approach is called centering, as the distribution of the pixel values is centered on the value of zero. Centering after normalization will mean that the pixels will have positive and negative values.\n",
    "\n",
    "The distribution of pixel values often follows a Normal or Gaussian distribution, e.g. bell shape. This distribution may be present per image, per mini-batch of images, or across the training dataset and globally or per channel. As such, there may be benefit in transforming the distribution of pixel values to be a standard Gaussian: that is both centering the pixel values on zero and normalizing the values by the standard deviation. The result is a standard Gaussian of pixel values with a mean of 0.0 and a standard deviation of 1.0.\n",
    "\n",
    "https://becominghuman.ai/image-data-pre-processing-for-neural-networks-498289068258"
   ]
  },
  {
   "cell_type": "code",
   "execution_count": 9,
   "metadata": {},
   "outputs": [],
   "source": [
    "#Pixel normalization\n",
    "trainScaledX = trainX/255\n",
    "validationScaledX = validationX/255\n",
    "testScaledX = testX/255"
   ]
  },
  {
   "cell_type": "code",
   "execution_count": 10,
   "metadata": {},
   "outputs": [],
   "source": [
    "trainMean=np.mean(trainScaledX)\n",
    "trainSTD=np.std(trainScaledX)"
   ]
  },
  {
   "cell_type": "code",
   "execution_count": 11,
   "metadata": {},
   "outputs": [],
   "source": [
    "trainNormX=(trainScaledX-trainMean)/trainSTD\n",
    "validationNormX=(validationScaledX-trainMean)/trainSTD\n",
    "testNormX=(testScaledX-trainMean)/trainSTD"
   ]
  },
  {
   "cell_type": "code",
   "execution_count": 12,
   "metadata": {},
   "outputs": [
    {
     "name": "stdout",
     "output_type": "stream",
     "text": [
      "New mean on train data: -2.7983685413346393e-06\n",
      "New std on train data: 1.0000014305114746\n"
     ]
    }
   ],
   "source": [
    "print(\"New mean on train data: {}\".format(np.mean(trainNormX)))\n",
    "print(\"New std on train data: {}\".format(np.std(trainNormX)))"
   ]
  },
  {
   "cell_type": "markdown",
   "metadata": {},
   "source": [
    "The images have now gone through standard pixel scaling and normalization and should now be ready to use in a neaural network.\n",
    "\n",
    "An alternative approach is to scale the images using a preferred scaling technique just-in-time during the training or model evaluation process. Keras supports this type of data preparation for image data via the ImageDataGenerator class and API. While I continue this project, I will look to implement this instead of manually normalizing the images as this Keras class may be more computationally effective."
   ]
  },
  {
   "cell_type": "code",
   "execution_count": 13,
   "metadata": {},
   "outputs": [],
   "source": [
    "# Reshape the training and test examples \n",
    "trainX2 = np.moveaxis(trainNormX,[0,1,2,3],[0,3,1,2])\n",
    "validationX2 = np.moveaxis(validationNormX,[0,1,2,3],[0,3,1,2])\n",
    "testX2 = np.moveaxis(testNormX,[0,1,2,3],[0,3,1,2])\n"
   ]
  },
  {
   "cell_type": "code",
   "execution_count": 14,
   "metadata": {},
   "outputs": [
    {
     "data": {
      "text/plain": [
       "(86989, 32, 32, 3)"
      ]
     },
     "execution_count": 14,
     "metadata": {},
     "output_type": "execute_result"
    }
   ],
   "source": [
    "trainX2.shape"
   ]
  },
  {
   "cell_type": "code",
   "execution_count": null,
   "metadata": {},
   "outputs": [],
   "source": []
  },
  {
   "cell_type": "code",
   "execution_count": null,
   "metadata": {},
   "outputs": [],
   "source": []
  },
  {
   "cell_type": "code",
   "execution_count": null,
   "metadata": {},
   "outputs": [],
   "source": []
  },
  {
   "cell_type": "code",
   "execution_count": null,
   "metadata": {},
   "outputs": [],
   "source": []
  },
  {
   "cell_type": "code",
   "execution_count": 15,
   "metadata": {},
   "outputs": [],
   "source": [
    "import tensorflow as tf"
   ]
  },
  {
   "cell_type": "code",
   "execution_count": 16,
   "metadata": {},
   "outputs": [],
   "source": [
    "def oneHot(labels,C):\n",
    "    One_hot_matrix = tf.one_hot(labels,C)\n",
    "    return tf.keras.backend.eval(One_hot_matrix)\n",
    "trainY = oneHot(trainY, 43)\n",
    "validationY = oneHot(validationY, 43)\n",
    "testY = oneHot(testY, 43)\n"
   ]
  },
  {
   "cell_type": "code",
   "execution_count": 17,
   "metadata": {},
   "outputs": [
    {
     "name": "stdout",
     "output_type": "stream",
     "text": [
      "WARNING:tensorflow:From C:\\Users\\Jorge\\Anaconda3.1\\lib\\site-packages\\tensorflow\\python\\ops\\init_ops.py:1251: calling VarianceScaling.__init__ (from tensorflow.python.ops.init_ops) with dtype is deprecated and will be removed in a future version.\n",
      "Instructions for updating:\n",
      "Call initializer instance with the dtype argument instead of passing it to the constructor\n"
     ]
    }
   ],
   "source": [
    "model = tf.keras.Sequential([\n",
    "    tf.keras.layers.Conv2D(64, 1, activation='relu', input_shape=(32,32,3)),\n",
    "    tf.keras.layers.Conv2D(128, 3, activation='relu'),\n",
    "    tf.keras.layers.MaxPool2D(padding = 'same',strides=2),\n",
    "    tf.keras.layers.Conv2D(128, 5, activation='relu',padding=\"same\"),\n",
    "    tf.keras.layers.MaxPool2D(padding = 'same',strides=2),\n",
    "    tf.keras.layers.Flatten(),\n",
    "    tf.keras.layers.Dense(300, activation='relu'),\n",
    "    tf.keras.layers.Dense(43, activation='softmax')\n",
    "])\n",
    "\n",
    "model.compile(optimizer=tf.keras.optimizers.Adam(learning_rate=0.001),loss=tf.keras.losses.CategoricalCrossentropy(), metrics=['accuracy'])"
   ]
  },
  {
   "cell_type": "code",
   "execution_count": 18,
   "metadata": {},
   "outputs": [
    {
     "name": "stdout",
     "output_type": "stream",
     "text": [
      "Epoch 1/2\n",
      "86989/86989 [==============================] - 1775s 20ms/sample - loss: 0.4928 - acc: 0.8607\n",
      "Epoch 2/2\n",
      "86989/86989 [==============================] - 1675s 19ms/sample - loss: 0.0454 - acc: 0.9869\n"
     ]
    }
   ],
   "source": [
    "result = model.fit(x=trainX2,y=trainY,batch_size=128,epochs=2,verbose=1,shuffle=False,initial_epoch=0)"
   ]
  },
  {
   "cell_type": "code",
   "execution_count": 19,
   "metadata": {},
   "outputs": [
    {
     "data": {
      "image/png": "[encoded data removed]",
      "text/plain": [
       "<Figure size 432x288 with 1 Axes>"
      ]
     },
     "metadata": {
      "needs_background": "light"
     },
     "output_type": "display_data"
    }
   ],
   "source": [
    "plt.plot(result.history['acc'])\n",
    "plt.plot(result.history['loss'])\n",
    "plt.title('Model accuracy')\n",
    "plt.ylabel('Accuracy')\n",
    "plt.xlabel('Epoch')\n",
    "plt.show()\n"
   ]
  },
  {
   "cell_type": "code",
   "execution_count": 20,
   "metadata": {},
   "outputs": [
    {
     "name": "stdout",
     "output_type": "stream",
     "text": [
      "4410/4410 - 34s - loss: 0.2367 - acc: 0.9417\n"
     ]
    }
   ],
   "source": [
    "valid = model.evaluate(validationX2,validationY,verbose=2)"
   ]
  },
  {
   "cell_type": "code",
   "execution_count": 21,
   "metadata": {},
   "outputs": [
    {
     "name": "stdout",
     "output_type": "stream",
     "text": [
      "12630/12630 - 97s - loss: 0.4107 - acc: 0.9267\n"
     ]
    }
   ],
   "source": [
    "test = model.evaluate(testX2,testY,verbose=2)"
   ]
  },
  {
   "cell_type": "code",
   "execution_count": null,
   "metadata": {},
   "outputs": [],
   "source": []
  }
 ],
 "metadata": {
  "kernelspec": {
   "display_name": "Python 3",
   "language": "python",
   "name": "python3"
  },
  "language_info": {
   "codemirror_mode": {
    "name": "ipython",
    "version": 3
   },
   "file_extension": ".py",
   "mimetype": "text/x-python",
   "name": "python",
   "nbconvert_exporter": "python",
   "pygments_lexer": "ipython3",
   "version": "3.7.3"
  }
 },
 "nbformat": 4,
 "nbformat_minor": 2
}
