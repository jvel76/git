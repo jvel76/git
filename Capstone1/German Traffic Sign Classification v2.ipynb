{
 "cells": [
  {
   "cell_type": "markdown",
   "metadata": {},
   "source": [
    "# German Traffic Sign Classification with Nueral Nets"
   ]
  },
  {
   "cell_type": "markdown",
   "metadata": {},
   "source": [
    "Waymo is currently testing self-driving cars in the streets of California. This has not only gotten a lot of attention in the US but around the world. There is a group of people in Germany who are looking to provide Waymo with some funding so that they can bring self-driving cars to the German public. While companies like Mercedes and BMW are already working on self-driving cars in Germany, this group of people think bringing in Waymo to Germany will spur innovation and competition. \n",
    "\n",
    "Before committing to this opportunity, the group of investors want to test Waymo's self driving models. While they are fairly confident that Waymo's cameras and models can identify people and cars correctly in Germany, they are a bit less confident when it comes to traffic signs given that there can be stark differences. Thus the group of investors want to provide Waymo with some German traffic sign image data and see how well their models can classify the signs. \n",
    "\n",
    "Waymo is also eager to expand its training outside of the country so they have agreed to take on the first challenge of properly classifying the German traffic sign data provided by the group of German investors. Given that traffic signs can be different around the world, Waymo has opted to build a new traffic sign classification model from start. They plan to build a CNN to help identify the image data.\n",
    "\n",
    "The image data provided is already in numerical representation so Waymo plans to do some simple image preprocessing before building a neural network. Given that this model is based on image classification there's not a lot of data analyzation or visualization that can possibly be done. They are just going to build a simple function so that they can visually sample some of the images. "
   ]
  },
  {
   "cell_type": "markdown",
   "metadata": {},
   "source": [
    "## Importing Libraries"
   ]
  },
  {
   "cell_type": "code",
   "execution_count": 1,
   "metadata": {},
   "outputs": [
    {
     "name": "stderr",
     "output_type": "stream",
     "text": [
      "Using TensorFlow backend.\n"
     ]
    },
    {
     "name": "stdout",
     "output_type": "stream",
     "text": [
      "Populating the interactive namespace from numpy and matplotlib\n"
     ]
    }
   ],
   "source": [
    "import pandas as pd\n",
    "import matplotlib.pyplot as plt\n",
    "from PIL import Image\n",
    "import numpy as np\n",
    "import matplotlib.image as mpimg\n",
    "import time\n",
    "import numpy as np\n",
    "import h5py\n",
    "import matplotlib.pyplot as plt\n",
    "import scipy\n",
    "from PIL import Image\n",
    "from scipy import ndimage\n",
    "from keras import layers\n",
    "from keras.layers import Input, Dense, Activation, ZeroPadding2D, BatchNormalization, Flatten, Conv2D\n",
    "from keras.layers import AveragePooling2D, MaxPooling2D, Dropout, GlobalMaxPooling2D, GlobalAveragePooling2D\n",
    "from keras.models import Model\n",
    "from keras.preprocessing import image\n",
    "from keras.utils import layer_utils\n",
    "from keras.utils.data_utils import get_file\n",
    "from keras.applications.imagenet_utils import preprocess_input\n",
    "from keras.utils.vis_utils import model_to_dot\n",
    "from keras.utils import plot_model\n",
    "import tensorflow as tf\n",
    "import keras.backend as K\n",
    "\n",
    "K.set_image_data_format('channels_last')\n",
    "%matplotlib inline\n",
    "%pylab inline\n",
    "np.random.seed(1)"
   ]
  },
  {
   "cell_type": "markdown",
   "metadata": {},
   "source": [
    "## Importing Data"
   ]
  },
  {
   "cell_type": "code",
   "execution_count": 2,
   "metadata": {},
   "outputs": [
    {
     "data": {
      "text/plain": [
       "{'x_test': array([[[[ 58.,  59.,  61., ..., 202., 205., 203.],\n",
       "          [ 49.,  52.,  55., ..., 204., 206., 204.],\n",
       "          [ 44.,  49.,  54., ..., 210., 203., 203.],\n",
       "          ...,\n",
       "          [ 66.,  99., 103., ...,  79.,  60.,  58.],\n",
       "          [ 63., 102., 103., ...,  78.,  61.,  49.],\n",
       "          [ 67.,  95.,  78., ...,  79.,  58.,  58.]],\n",
       " \n",
       "         [[ 51.,  51.,  47., ..., 215., 216., 216.],\n",
       "          [ 45.,  52.,  51., ..., 216., 218., 217.],\n",
       "          [ 40.,  47.,  48., ..., 220., 222., 218.],\n",
       "          ...,\n",
       "          [ 57.,  82.,  82., ...,  82.,  60.,  59.],\n",
       "          [ 59.,  87.,  85., ...,  84.,  59.,  49.],\n",
       "          [ 57.,  91.,  67., ...,  87.,  65.,  53.]],\n",
       " \n",
       "         [[ 42.,  39.,  36., ..., 232., 233., 234.],\n",
       "          [ 37.,  44.,  43., ..., 234., 236., 236.],\n",
       "          [ 35.,  41.,  43., ..., 239., 242., 236.],\n",
       "          ...,\n",
       "          [ 41.,  74.,  82., ...,  66.,  50.,  52.],\n",
       "          [ 46.,  78.,  81., ...,  70.,  51.,  47.],\n",
       "          [ 45.,  83.,  64., ...,  75.,  57.,  49.]]],\n",
       " \n",
       " \n",
       "        [[[149., 172., 189., ...,  74.,  77.,  80.],\n",
       "          [154., 179., 196., ...,  88.,  89.,  88.],\n",
       "          [156., 184., 200., ..., 114., 116., 120.],\n",
       "          ...,\n",
       "          [ 32.,  32.,  97., ...,  53.,  40.,  47.],\n",
       "          [ 34.,  35.,  95., ...,  54.,  39.,  47.],\n",
       "          [ 42.,  42.,  96., ...,  53.,  38.,  44.]],\n",
       " \n",
       "         [[126., 164., 181., ...,  59.,  61.,  63.],\n",
       "          [133., 168., 183., ...,  69.,  71.,  70.],\n",
       "          [136., 168., 179., ..., 100., 102., 106.],\n",
       "          ...,\n",
       "          [ 26.,  28.,  93., ...,  38.,  33.,  46.],\n",
       "          [ 29.,  30.,  90., ...,  39.,  33.,  45.],\n",
       "          [ 35.,  36.,  91., ...,  39.,  32.,  46.]],\n",
       " \n",
       "         [[132., 173., 186., ...,  59.,  60.,  60.],\n",
       "          [140., 177., 186., ...,  67.,  69.,  68.],\n",
       "          [143., 176., 183., ...,  96., 104., 111.],\n",
       "          ...,\n",
       "          [ 25.,  35., 114., ...,  35.,  37.,  55.],\n",
       "          [ 29.,  37., 110., ...,  33.,  38.,  54.],\n",
       "          [ 39.,  44., 106., ...,  32.,  39.,  64.]]],\n",
       " \n",
       " \n",
       "        [[[ 53.,  46.,  22., ...,  25.,  26.,  24.],\n",
       "          [ 49.,  48.,  20., ...,  25.,  27.,  23.],\n",
       "          [ 52.,  52.,  25., ...,  28.,  28.,  26.],\n",
       "          ...,\n",
       "          [ 48.,  49.,  43., ...,  21.,  25.,  26.],\n",
       "          [ 46.,  44.,  39., ...,  23.,  28.,  29.],\n",
       "          [ 39.,  38.,  37., ...,  26.,  28.,  27.]],\n",
       " \n",
       "         [[ 44.,  46.,  27., ...,  23.,  22.,  22.],\n",
       "          [ 38.,  45.,  22., ...,  24.,  25.,  21.],\n",
       "          [ 40.,  47.,  24., ...,  27.,  25.,  22.],\n",
       "          ...,\n",
       "          [ 44.,  44.,  36., ...,  20.,  23.,  25.],\n",
       "          [ 41.,  40.,  35., ...,  21.,  23.,  26.],\n",
       "          [ 35.,  35.,  36., ...,  26.,  26.,  26.]],\n",
       " \n",
       "         [[ 55.,  65.,  37., ...,  23.,  22.,  21.],\n",
       "          [ 50.,  65.,  31., ...,  25.,  26.,  23.],\n",
       "          [ 51.,  65.,  33., ...,  27.,  25.,  23.],\n",
       "          ...,\n",
       "          [ 45.,  44.,  37., ...,  21.,  25.,  27.],\n",
       "          [ 42.,  40.,  38., ...,  22.,  23.,  27.],\n",
       "          [ 33.,  35.,  41., ...,  27.,  25.,  24.]]],\n",
       " \n",
       " \n",
       "        ...,\n",
       " \n",
       " \n",
       "        [[[119., 119., 117., ..., 126., 128., 125.],\n",
       "          [121., 118., 119., ..., 126., 125., 125.],\n",
       "          [118., 117., 118., ..., 122., 124., 123.],\n",
       "          ...,\n",
       "          [ 15.,  16.,  17., ...,  26.,  28.,  31.],\n",
       "          [ 15.,  15.,  16., ...,  22.,  23.,  25.],\n",
       "          [ 15.,  16.,  16., ...,  20.,  21.,  20.]],\n",
       " \n",
       "         [[134., 135., 134., ..., 141., 143., 140.],\n",
       "          [137., 133., 134., ..., 143., 141., 140.],\n",
       "          [135., 132., 132., ..., 140., 141., 139.],\n",
       "          ...,\n",
       "          [ 15.,  16.,  16., ...,  26.,  28.,  30.],\n",
       "          [ 15.,  15.,  16., ...,  22.,  23.,  25.],\n",
       "          [ 15.,  16.,  16., ...,  20.,  21.,  21.]],\n",
       " \n",
       "         [[165., 165., 164., ..., 169., 171., 167.],\n",
       "          [168., 162., 164., ..., 171., 169., 167.],\n",
       "          [165., 161., 161., ..., 169., 169., 167.],\n",
       "          ...,\n",
       "          [ 20.,  21.,  20., ...,  32.,  34.,  37.],\n",
       "          [ 21.,  21.,  21., ...,  27.,  28.,  31.],\n",
       "          [ 20.,  21.,  21., ...,  25.,  26.,  26.]]],\n",
       " \n",
       " \n",
       "        [[[ 32.,  41.,  52., ...,  65.,  62.,  62.],\n",
       "          [ 33.,  39.,  52., ...,  61.,  53.,  55.],\n",
       "          [ 39.,  30.,  41., ...,  62.,  55.,  62.],\n",
       "          ...,\n",
       "          [104., 107., 103., ...,  72.,  72.,  82.],\n",
       "          [103., 101., 101., ...,  71.,  73.,  74.],\n",
       "          [ 93.,  90.,  87., ...,  73.,  75.,  70.]],\n",
       " \n",
       "         [[ 17.,  16.,  24., ...,  50.,  48.,  44.],\n",
       "          [ 21.,  21.,  34., ...,  50.,  42.,  44.],\n",
       "          [ 32.,  23.,  35., ...,  54.,  43.,  50.],\n",
       "          ...,\n",
       "          [ 84.,  82.,  78., ...,  61.,  64.,  65.],\n",
       "          [ 83.,  80.,  78., ...,  62.,  63.,  57.],\n",
       "          [ 78.,  77.,  74., ...,  65.,  64.,  59.]],\n",
       " \n",
       "         [[ 17.,  19.,  28., ...,  36.,  37.,  36.],\n",
       "          [ 22.,  27.,  53., ...,  38.,  33.,  36.],\n",
       "          [ 34.,  30.,  54., ...,  37.,  35.,  42.],\n",
       "          ...,\n",
       "          [ 70.,  70.,  71., ...,  56.,  64.,  60.],\n",
       "          [ 67.,  65.,  68., ...,  61.,  58.,  50.],\n",
       "          [ 63.,  65.,  66., ...,  63.,  58.,  52.]]],\n",
       " \n",
       " \n",
       "        [[[ 12.,  14.,  14., ...,  13.,  14.,  13.],\n",
       "          [ 11.,  13.,  13., ...,  12.,  13.,  12.],\n",
       "          [ 11.,  12.,  12., ...,  12.,  13.,  12.],\n",
       "          ...,\n",
       "          [ 12.,  13.,  15., ...,  13.,  13.,  12.],\n",
       "          [ 11.,  12.,  14., ...,  12.,  12.,  12.],\n",
       "          [ 13.,  13.,  13., ...,  10.,  11.,  10.]],\n",
       " \n",
       "         [[ 14.,  15.,  15., ...,  14.,  15.,  14.],\n",
       "          [ 14.,  14.,  14., ...,  14.,  13.,  12.],\n",
       "          [ 14.,  14.,  13., ...,  14.,  14.,  13.],\n",
       "          ...,\n",
       "          [ 13.,  14.,  15., ...,  14.,  14.,  13.],\n",
       "          [ 13.,  13.,  14., ...,  13.,  13.,  13.],\n",
       "          [ 15.,  15.,  15., ...,  12.,  13.,  12.]],\n",
       " \n",
       "         [[ 20.,  20.,  18., ...,  19.,  18.,  18.],\n",
       "          [ 20.,  20.,  18., ...,  18.,  17.,  16.],\n",
       "          [ 20.,  20.,  19., ...,  20.,  20.,  17.],\n",
       "          ...,\n",
       "          [ 19.,  19.,  19., ...,  20.,  20.,  19.],\n",
       "          [ 17.,  17.,  18., ...,  18.,  18.,  18.],\n",
       "          [ 20.,  19.,  19., ...,  18.,  18.,  18.]]]], dtype=float32),\n",
       " 'y_validation': array([ 9, 37, 31, ...,  5, 18,  6], dtype=uint8),\n",
       " 'x_validation': array([[[[ 21.,  21.,  20., ...,  20.,  22.,  21.],\n",
       "          [ 22.,  22.,  22., ...,  21.,  20.,  20.],\n",
       "          [ 22.,  21.,  21., ...,  22.,  21.,  21.],\n",
       "          ...,\n",
       "          [ 23.,  23.,  21., ...,  22.,  35.,  46.],\n",
       "          [ 22.,  22.,  21., ...,  22.,  42.,  57.],\n",
       "          [ 22.,  21.,  22., ...,  24.,  51.,  68.]],\n",
       " \n",
       "         [[ 19.,  19.,  18., ...,  18.,  19.,  18.],\n",
       "          [ 19.,  19.,  19., ...,  18.,  17.,  17.],\n",
       "          [ 18.,  19.,  18., ...,  19.,  17.,  17.],\n",
       "          ...,\n",
       "          [ 18.,  19.,  18., ...,  18.,  28.,  36.],\n",
       "          [ 18.,  18.,  18., ...,  18.,  34.,  42.],\n",
       "          [ 18.,  17.,  17., ...,  20.,  40.,  46.]],\n",
       " \n",
       "         [[ 18.,  18.,  16., ...,  16.,  17.,  17.],\n",
       "          [ 18.,  17.,  16., ...,  17.,  15.,  15.],\n",
       "          [ 17.,  18.,  17., ...,  18.,  16.,  16.],\n",
       "          ...,\n",
       "          [ 17.,  17.,  17., ...,  17.,  25.,  30.],\n",
       "          [ 18.,  18.,  16., ...,  15.,  28.,  33.],\n",
       "          [ 18.,  16.,  16., ...,  19.,  38.,  41.]]],\n",
       " \n",
       " \n",
       "        [[[128., 123., 106., ..., 124., 140.,  98.],\n",
       "          [185., 158.,  96., ..., 216., 224., 168.],\n",
       "          [217., 141., 123., ..., 219., 241., 235.],\n",
       "          ...,\n",
       "          [250., 242., 243., ..., 123., 101.,  91.],\n",
       "          [245., 227., 242., ..., 126., 167., 113.],\n",
       "          [247., 249., 244., ..., 168., 196., 147.]],\n",
       " \n",
       "         [[112.,  97.,  99., ...,  90.,  87.,  75.],\n",
       "          [180., 105.,  79., ..., 174., 181., 133.],\n",
       "          [206., 110.,  97., ..., 202., 232., 235.],\n",
       "          ...,\n",
       "          [236., 221., 232., ...,  92.,  91.,  90.],\n",
       "          [210., 168., 222., ..., 102., 123., 105.],\n",
       "          [228., 223., 228., ..., 144., 156., 132.]],\n",
       " \n",
       "         [[ 58.,  56.,  59., ...,  56.,  47.,  44.],\n",
       "          [ 82.,  57.,  51., ...,  86.,  81.,  68.],\n",
       "          [ 81.,  50.,  75., ..., 127., 147., 120.],\n",
       "          ...,\n",
       "          [161., 116., 127., ...,  61.,  61.,  55.],\n",
       "          [117.,  90., 121., ...,  55.,  78.,  58.],\n",
       "          [143., 167., 159., ...,  66.,  89.,  62.]]],\n",
       " \n",
       " \n",
       "        [[[255., 255., 255., ..., 255., 255., 255.],\n",
       "          [255., 255., 255., ..., 255., 255., 255.],\n",
       "          [255., 255., 255., ..., 255., 255., 255.],\n",
       "          ...,\n",
       "          [ 26.,  25.,  24., ...,  43.,  36.,  35.],\n",
       "          [ 24.,  24.,  23., ...,  35.,  36.,  36.],\n",
       "          [ 24.,  24.,  23., ...,  33.,  34.,  37.]],\n",
       " \n",
       "         [[255., 255., 255., ..., 255., 255., 255.],\n",
       "          [255., 255., 255., ..., 255., 255., 255.],\n",
       "          [255., 255., 255., ..., 255., 255., 255.],\n",
       "          ...,\n",
       "          [ 24.,  24.,  23., ...,  41.,  32.,  31.],\n",
       "          [ 23.,  22.,  21., ...,  30.,  31.,  31.],\n",
       "          [ 22.,  21.,  21., ...,  29.,  30.,  31.]],\n",
       " \n",
       "         [[255., 255., 255., ..., 255., 255., 255.],\n",
       "          [255., 255., 255., ..., 255., 255., 255.],\n",
       "          [255., 255., 255., ..., 255., 255., 255.],\n",
       "          ...,\n",
       "          [ 23.,  23.,  22., ...,  38.,  30.,  31.],\n",
       "          [ 22.,  21.,  20., ...,  28.,  28.,  30.],\n",
       "          [ 22.,  20.,  20., ...,  27.,  27.,  29.]]],\n",
       " \n",
       " \n",
       "        ...,\n",
       " \n",
       " \n",
       "        [[[ 62.,  60.,  59., ...,  55.,  54.,  53.],\n",
       "          [ 57.,  58.,  60., ...,  51.,  53.,  52.],\n",
       "          [ 56.,  58.,  60., ...,  49.,  49.,  50.],\n",
       "          ...,\n",
       "          [ 47.,  53., 101., ..., 118., 105., 124.],\n",
       "          [ 44.,  53., 102., ..., 148., 109., 145.],\n",
       "          [ 44.,  53., 101., ..., 128., 106., 137.]],\n",
       " \n",
       "         [[ 52.,  50.,  48., ...,  42.,  41.,  41.],\n",
       "          [ 50.,  50.,  49., ...,  40.,  43.,  42.],\n",
       "          [ 51.,  51.,  49., ...,  39.,  40.,  41.],\n",
       "          ...,\n",
       "          [ 40.,  48.,  97., ..., 112.,  97., 113.],\n",
       "          [ 40.,  50.,  99., ..., 140., 101., 128.],\n",
       "          [ 39.,  51., 100., ..., 130.,  97., 121.]],\n",
       " \n",
       "         [[ 47.,  45.,  43., ...,  40.,  40.,  40.],\n",
       "          [ 45.,  44.,  43., ...,  39.,  42.,  42.],\n",
       "          [ 47.,  47.,  44., ...,  38.,  40.,  42.],\n",
       "          ...,\n",
       "          [ 38.,  45.,  87., ...,  98.,  94., 127.],\n",
       "          [ 38.,  48.,  90., ..., 130.,  94., 128.],\n",
       "          [ 37.,  49.,  94., ..., 124.,  87., 104.]]],\n",
       " \n",
       " \n",
       "        [[[255., 255., 255., ..., 255., 255., 255.],\n",
       "          [255., 255., 255., ..., 255., 255., 255.],\n",
       "          [255., 255., 255., ..., 247., 255., 255.],\n",
       "          ...,\n",
       "          [255., 255., 241., ..., 168.,  99.,  87.],\n",
       "          [255., 255., 255., ..., 184.,  96.,  90.],\n",
       "          [255., 255., 255., ..., 118.,  86.,  96.]],\n",
       " \n",
       "         [[255., 255., 255., ..., 255., 255., 255.],\n",
       "          [255., 255., 255., ..., 255., 255., 255.],\n",
       "          [255., 255., 255., ..., 249., 255., 255.],\n",
       "          ...,\n",
       "          [255., 255., 237., ..., 170.,  96.,  89.],\n",
       "          [255., 255., 255., ..., 183.,  95.,  87.],\n",
       "          [255., 255., 255., ..., 119.,  84.,  85.]],\n",
       " \n",
       "         [[255., 255., 255., ..., 255., 255., 255.],\n",
       "          [255., 255., 255., ..., 255., 255., 255.],\n",
       "          [255., 255., 255., ..., 250., 255., 255.],\n",
       "          ...,\n",
       "          [255., 255., 237., ..., 191., 109.,  93.],\n",
       "          [255., 255., 255., ..., 197., 104.,  91.],\n",
       "          [255., 255., 255., ..., 131.,  89.,  88.]]],\n",
       " \n",
       " \n",
       "        [[[ 15.,   9.,  15., ...,  26.,  26.,  29.],\n",
       "          [ 16.,  10.,  16., ...,  24.,  26.,  30.],\n",
       "          [ 15.,  10.,  15., ...,  25.,  27.,  29.],\n",
       "          ...,\n",
       "          [ 15.,  14.,  14., ...,  26.,  25.,  24.],\n",
       "          [ 16.,  14.,  15., ...,  25.,  23.,  24.],\n",
       "          [ 15.,  15.,  15., ...,  26.,  22.,  22.]],\n",
       " \n",
       "         [[ 25.,  20.,  28., ...,  23.,  23.,  26.],\n",
       "          [ 26.,  21.,  28., ...,  22.,  24.,  28.],\n",
       "          [ 25.,  22.,  28., ...,  23.,  25.,  27.],\n",
       "          ...,\n",
       "          [ 26.,  25.,  25., ...,  24.,  24.,  23.],\n",
       "          [ 27.,  25.,  26., ...,  24.,  23.,  24.],\n",
       "          [ 26.,  26.,  26., ...,  25.,  22.,  23.]],\n",
       " \n",
       "         [[ 51.,  42.,  48., ...,  28.,  29.,  32.],\n",
       "          [ 53.,  43.,  49., ...,  28.,  32.,  33.],\n",
       "          [ 50.,  42.,  48., ...,  28.,  31.,  32.],\n",
       "          ...,\n",
       "          [ 50.,  49.,  47., ...,  27.,  28.,  27.],\n",
       "          [ 54.,  50.,  49., ...,  27.,  26.,  28.],\n",
       "          [ 53.,  51.,  51., ...,  28.,  25.,  26.]]]], dtype=float32),\n",
       " 'labels': ['Speed limit (20km/h)',\n",
       "  'Speed limit (30km/h)',\n",
       "  'Speed limit (50km/h)',\n",
       "  'Speed limit (60km/h)',\n",
       "  'Speed limit (70km/h)',\n",
       "  'Speed limit (80km/h)',\n",
       "  'End of speed limit (80km/h)',\n",
       "  'Speed limit (100km/h)',\n",
       "  'Speed limit (120km/h)',\n",
       "  'No passing',\n",
       "  'No passing for vehicles over 3.5 metric tons',\n",
       "  'Right-of-way at the next intersection',\n",
       "  'Priority road',\n",
       "  'Yield',\n",
       "  'Stop',\n",
       "  'No vehicles',\n",
       "  'Vehicles over 3.5 metric tons prohibited',\n",
       "  'No entry',\n",
       "  'General caution',\n",
       "  'Dangerous curve to the left',\n",
       "  'Dangerous curve to the right',\n",
       "  'Double curve',\n",
       "  'Bumpy road',\n",
       "  'Slippery road',\n",
       "  'Road narrows on the right',\n",
       "  'Road work',\n",
       "  'Traffic signals',\n",
       "  'Pedestrians',\n",
       "  'Children crossing',\n",
       "  'Bicycles crossing',\n",
       "  'Beware of ice/snow',\n",
       "  'Wild animals crossing',\n",
       "  'End of all speed and passing limits',\n",
       "  'Turn right ahead',\n",
       "  'Turn left ahead',\n",
       "  'Ahead only',\n",
       "  'Go straight or right',\n",
       "  'Go straight or left',\n",
       "  'Keep right',\n",
       "  'Keep left',\n",
       "  'Roundabout mandatory',\n",
       "  'End of no passing',\n",
       "  'End of no passing by vehicles over 3.5 metric tons'],\n",
       " 'x_train': array([[[[ 13,  60,  57, ...,  19,  14,  10],\n",
       "          [ 15,  56,  57, ...,  49,  42,  34],\n",
       "          [ 17,  56,  57, ...,  48,  38,  32],\n",
       "          ...,\n",
       "          [ 35,  41,  45, ...,  58,  59,  21],\n",
       "          [ 37,  39,  44, ...,  58,  58,  17],\n",
       "          [  8,  10,  13, ...,  57,  57,  16]],\n",
       " \n",
       "         [[ 12,  56,  52, ...,  17,  13,  10],\n",
       "          [ 13,  50,  50, ...,  44,  39,  33],\n",
       "          [ 15,  49,  50, ...,  42,  34,  28],\n",
       "          ...,\n",
       "          [ 35,  41,  45, ...,  54,  54,  20],\n",
       "          [ 36,  38,  41, ...,  54,  54,  16],\n",
       "          [  7,  10,  13, ...,  53,  53,  14]],\n",
       " \n",
       "         [[ 11,  51,  45, ...,  17,  13,   9],\n",
       "          [ 12,  45,  44, ...,  43,  38,  30],\n",
       "          [ 13,  44,  43, ...,  41,  31,  24],\n",
       "          ...,\n",
       "          [ 27,  34,  38, ...,  48,  48,  18],\n",
       "          [ 27,  30,  34, ...,  48,  49,  14],\n",
       "          [  5,   7,   9, ...,  47,  48,  13]]],\n",
       " \n",
       " \n",
       "        [[[ 13,  17,  18, ...,  28,  30,  14],\n",
       "          [ 28,  35,  36, ...,  28,  29,  14],\n",
       "          [ 27,  33,  37, ...,  27,  28,  15],\n",
       "          ...,\n",
       "          [ 25,  37,  26, ...,  66,  71,  42],\n",
       "          [ 27,  48,  37, ...,  69,  70,  42],\n",
       "          [ 27,  56,  48, ...,  39,  37,  21]],\n",
       " \n",
       "         [[ 11,  15,  19, ...,  26,  26,  12],\n",
       "          [ 25,  31,  34, ...,  24,  26,  13],\n",
       "          [ 26,  29,  34, ...,  24,  25,  14],\n",
       "          ...,\n",
       "          [ 25,  40,  31, ...,  59,  73,  48],\n",
       "          [ 28,  50,  41, ...,  60,  73,  46],\n",
       "          [ 29,  57,  50, ...,  33,  38,  22]],\n",
       " \n",
       "         [[  9,  11,  14, ...,  23,  24,  11],\n",
       "          [ 20,  23,  27, ...,  22,  24,  12],\n",
       "          [ 21,  22,  26, ...,  22,  24,  13],\n",
       "          ...,\n",
       "          [ 28,  43,  30, ...,  52,  78,  55],\n",
       "          [ 30,  54,  45, ...,  53,  78,  55],\n",
       "          [ 29,  58,  52, ...,  29,  41,  27]]],\n",
       " \n",
       " \n",
       "        [[[ 25,  25,  26, ...,  68,  44,  29],\n",
       "          [ 26,  26,  25, ...,  66,  44,  30],\n",
       "          [ 26,  25,  24, ...,  66,  44,  30],\n",
       "          ...,\n",
       "          [255, 250, 208, ...,  74,  69,  70],\n",
       "          [255, 249, 198, ...,  74,  78,  61],\n",
       "          [253, 249, 200, ...,  75,  83,  64]],\n",
       " \n",
       "         [[ 28,  27,  27, ...,  70,  52,  31],\n",
       "          [ 28,  28,  27, ...,  69,  51,  31],\n",
       "          [ 28,  28,  28, ...,  68,  52,  31],\n",
       "          ...,\n",
       "          [255, 255, 231, ...,  79,  78,  65],\n",
       "          [254, 255, 231, ...,  78,  84,  66],\n",
       "          [238, 255, 229, ...,  79,  87,  70]],\n",
       " \n",
       "         [[ 34,  33,  33, ...,  79,  62,  34],\n",
       "          [ 35,  34,  33, ...,  77,  62,  35],\n",
       "          [ 34,  34,  33, ...,  76,  62,  34],\n",
       "          ...,\n",
       "          [255, 255, 246, ...,  84,  84,  65],\n",
       "          [250, 255, 249, ...,  82,  94,  75],\n",
       "          [226, 254, 247, ...,  85,  96,  78]]],\n",
       " \n",
       " \n",
       "        ...,\n",
       " \n",
       " \n",
       "        [[[  0, 144, 178, ...,   6,   3,   2],\n",
       "          [  9, 158, 178, ...,  40,  35,  35],\n",
       "          [ 22, 182, 201, ...,  68,  58,  47],\n",
       "          ...,\n",
       "          [205, 205, 205, ...,  62,  62,  12],\n",
       "          [199, 205, 205, ...,  56,  58,   7],\n",
       "          [  0,  12,  25, ...,  51,  52,   3]],\n",
       " \n",
       "         [[  0, 127, 160, ...,   8,   5,   2],\n",
       "          [  8, 143, 171, ...,  51,  47,  44],\n",
       "          [ 19, 168, 197, ...,  75,  66,  57],\n",
       "          ...,\n",
       "          [205, 205, 205, ...,  58,  57,  11],\n",
       "          [199, 205, 205, ...,  56,  54,   7],\n",
       "          [  0,  12,  25, ...,  51,  47,   3]],\n",
       " \n",
       "         [[  0, 116, 153, ...,  12,   8,   4],\n",
       "          [  7, 133, 165, ...,  72,  67,  63],\n",
       "          [ 18, 157, 194, ..., 100,  91,  80],\n",
       "          ...,\n",
       "          [205, 205, 205, ...,  53,  46,   8],\n",
       "          [199, 205, 205, ...,  52,  46,   5],\n",
       "          [  0,  12,  25, ...,  47,  41,   2]]],\n",
       " \n",
       " \n",
       "        [[[ 80, 198, 198, ..., 105,  93,  87],\n",
       "          [ 87, 198, 198, ..., 198, 198, 198],\n",
       "          [ 93, 198, 198, ..., 198, 198, 198],\n",
       "          ...,\n",
       "          [198, 198, 198, ..., 198, 198, 105],\n",
       "          [198, 198, 198, ..., 198, 198,  93],\n",
       "          [ 80,  87,  93, ..., 198, 198,  87]],\n",
       " \n",
       "         [[ 80, 198, 198, ..., 105,  93,  87],\n",
       "          [ 87, 198, 198, ..., 198, 198, 198],\n",
       "          [ 93, 198, 198, ..., 198, 198, 198],\n",
       "          ...,\n",
       "          [198, 198, 198, ..., 198, 198, 105],\n",
       "          [198, 198, 198, ..., 198, 198,  93],\n",
       "          [ 80,  87,  93, ..., 198, 198,  87]],\n",
       " \n",
       "         [[ 80, 198, 198, ..., 105,  93,  87],\n",
       "          [ 87, 198, 198, ..., 198, 198, 198],\n",
       "          [ 93, 198, 198, ..., 198, 198, 198],\n",
       "          ...,\n",
       "          [198, 198, 198, ..., 198, 198, 105],\n",
       "          [198, 198, 198, ..., 198, 198,  93],\n",
       "          [ 80,  87,  93, ..., 198, 198,  87]]],\n",
       " \n",
       " \n",
       "        [[[  0,   0,  65, ...,   0,   0,   0],\n",
       "          [  0,   0,  92, ...,  14,   0,   0],\n",
       "          [  0,   0, 113, ..., 160, 130, 100],\n",
       "          ...,\n",
       "          [ 19,  30,  43, ...,  70,   3,   0],\n",
       "          [  0,   0,   0, ...,  65,   0,   0],\n",
       "          [  0,   0,   0, ...,  58,   0,   0]],\n",
       " \n",
       "         [[  0,   0,  84, ...,   0,   0,   0],\n",
       "          [  0,   0, 112, ...,  15,   0,   0],\n",
       "          [  0,   0, 138, ..., 168, 151, 125],\n",
       "          ...,\n",
       "          [ 20,  27,  38, ...,  90,   4,   0],\n",
       "          [  0,   0,   0, ...,  86,   0,   0],\n",
       "          [  0,   0,   0, ...,  72,   0,   0]],\n",
       " \n",
       "         [[  0,   0,  96, ...,   0,   0,   0],\n",
       "          [  0,   0, 125, ...,  15,   0,   0],\n",
       "          [  0,   0, 152, ..., 168, 152, 125],\n",
       "          ...,\n",
       "          [ 20,  28,  40, ...,  98,   5,   0],\n",
       "          [  0,   0,   0, ..., 102,   0,   0],\n",
       "          [  0,   0,   0, ...,  94,   0,   0]]]], dtype=uint8),\n",
       " 'y_test': array([25, 11, 38, ...,  8, 33, 10], dtype=uint8),\n",
       " 'y_train': array([37, 27, 38, ..., 11, 14, 30], dtype=int64)}"
      ]
     },
     "execution_count": 2,
     "metadata": {},
     "output_type": "execute_result"
    }
   ],
   "source": [
    "allDataInDict=pd.read_pickle(\"./data0.pickle\")\n",
    "allDataInDict"
   ]
  },
  {
   "cell_type": "code",
   "execution_count": 3,
   "metadata": {},
   "outputs": [
    {
     "data": {
      "text/plain": [
       "dict_keys(['x_test', 'y_validation', 'x_validation', 'labels', 'x_train', 'y_test', 'y_train'])"
      ]
     },
     "execution_count": 3,
     "metadata": {},
     "output_type": "execute_result"
    }
   ],
   "source": [
    "allDataInDict.keys()"
   ]
  },
  {
   "cell_type": "code",
   "execution_count": 4,
   "metadata": {},
   "outputs": [
    {
     "name": "stdout",
     "output_type": "stream",
     "text": [
      "Train Data Shape: (86989, 3, 32, 32)\n",
      "Validation Data Shape: (4410, 3, 32, 32)\n",
      "Test Data Shape: (12630, 3, 32, 32)\n"
     ]
    }
   ],
   "source": [
    "print(\"Train Data Shape: {}\".format(allDataInDict[\"x_train\"].shape))\n",
    "print(\"Validation Data Shape: {}\".format(allDataInDict[\"x_validation\"].shape))\n",
    "print(\"Test Data Shape: {}\".format(allDataInDict[\"x_test\"].shape))"
   ]
  },
  {
   "cell_type": "code",
   "execution_count": 5,
   "metadata": {},
   "outputs": [],
   "source": [
    "#Data in array for\n",
    "trainX=np.array(allDataInDict['x_train'],dtype=np.float32)\n",
    "trainY=np.array(allDataInDict['y_train'],dtype=np.float32)\n",
    "validationX=np.array(allDataInDict['x_validation'],dtype=np.float32)\n",
    "validationY=np.array(allDataInDict['y_validation'],dtype=np.float32)\n",
    "testX=np.array(allDataInDict['x_test'],dtype=np.float32)\n",
    "testY=np.array(allDataInDict['y_test'],dtype=np.float32)"
   ]
  },
  {
   "cell_type": "markdown",
   "metadata": {},
   "source": [
    "## Data Class Distributions"
   ]
  },
  {
   "cell_type": "code",
   "execution_count": 6,
   "metadata": {},
   "outputs": [
    {
     "data": {
      "image/png": "[encoded data removed]",
      "text/plain": [
       "<Figure size 432x288 with 1 Axes>"
      ]
     },
     "metadata": {
      "needs_background": "light"
     },
     "output_type": "display_data"
    },
    {
     "data": {
      "text/plain": [
       "15.0    2023\n",
       "22.0    2023\n",
       "35.0    2023\n",
       "19.0    2023\n",
       "26.0    2023\n",
       "34.0    2023\n",
       "41.0    2023\n",
       "20.0    2023\n",
       "12.0    2023\n",
       "42.0    2023\n",
       "29.0    2023\n",
       "10.0    2023\n",
       "40.0    2023\n",
       "33.0    2023\n",
       "25.0    2023\n",
       "32.0    2023\n",
       "16.0    2023\n",
       "2.0     2023\n",
       "0.0     2023\n",
       "8.0     2023\n",
       "14.0    2023\n",
       "30.0    2023\n",
       "21.0    2023\n",
       "31.0    2023\n",
       "7.0     2023\n",
       "39.0    2023\n",
       "38.0    2023\n",
       "13.0    2023\n",
       "17.0    2023\n",
       "3.0     2023\n",
       "6.0     2023\n",
       "27.0    2023\n",
       "11.0    2023\n",
       "23.0    2023\n",
       "36.0    2023\n",
       "5.0     2023\n",
       "37.0    2023\n",
       "9.0     2023\n",
       "1.0     2023\n",
       "24.0    2023\n",
       "4.0     2023\n",
       "18.0    2023\n",
       "28.0    2023\n",
       "Name: 0, dtype: int64"
      ]
     },
     "execution_count": 6,
     "metadata": {},
     "output_type": "execute_result"
    }
   ],
   "source": [
    "dfTrain=pd.DataFrame(trainY)[0]\n",
    "plt.hist(dfTrain,bins=43);\n",
    "plt.xlabel(\"Index Class\")\n",
    "plt.ylabel(\"Count\")\n",
    "plt.title(\"Train Image Distribution\")\n",
    "plt.show()\n",
    "dfTrain.value_counts()"
   ]
  },
  {
   "cell_type": "code",
   "execution_count": 7,
   "metadata": {},
   "outputs": [
    {
     "data": {
      "image/png": "[encoded data removed]",
      "text/plain": [
       "<Figure size 432x288 with 1 Axes>"
      ]
     },
     "metadata": {
      "needs_background": "light"
     },
     "output_type": "display_data"
    },
    {
     "data": {
      "text/plain": [
       "13.0    240\n",
       "2.0     240\n",
       "1.0     240\n",
       "4.0     210\n",
       "10.0    210\n",
       "5.0     210\n",
       "12.0    210\n",
       "38.0    210\n",
       "11.0    150\n",
       "7.0     150\n",
       "8.0     150\n",
       "9.0     150\n",
       "3.0     150\n",
       "25.0    150\n",
       "35.0    120\n",
       "18.0    120\n",
       "17.0    120\n",
       "15.0     90\n",
       "14.0     90\n",
       "33.0     90\n",
       "31.0     90\n",
       "28.0     60\n",
       "23.0     60\n",
       "26.0     60\n",
       "6.0      60\n",
       "36.0     60\n",
       "22.0     60\n",
       "40.0     60\n",
       "34.0     60\n",
       "21.0     60\n",
       "16.0     60\n",
       "30.0     60\n",
       "20.0     60\n",
       "32.0     30\n",
       "29.0     30\n",
       "27.0     30\n",
       "42.0     30\n",
       "39.0     30\n",
       "19.0     30\n",
       "37.0     30\n",
       "24.0     30\n",
       "0.0      30\n",
       "41.0     30\n",
       "Name: 0, dtype: int64"
      ]
     },
     "execution_count": 7,
     "metadata": {},
     "output_type": "execute_result"
    }
   ],
   "source": [
    "dfValidation=pd.DataFrame(validationY)[0]\n",
    "plt.hist(dfValidation,bins=43);\n",
    "plt.xlabel(\"Index Class\")\n",
    "plt.ylabel(\"Count\")\n",
    "plt.title(\"Validation Image Distribution\")\n",
    "plt.show()\n",
    "dfValidation.value_counts()"
   ]
  },
  {
   "cell_type": "code",
   "execution_count": 8,
   "metadata": {},
   "outputs": [
    {
     "data": {
      "image/png": "[encoded data removed]",
      "text/plain": [
       "<Figure size 432x288 with 1 Axes>"
      ]
     },
     "metadata": {
      "needs_background": "light"
     },
     "output_type": "display_data"
    },
    {
     "data": {
      "text/plain": [
       "2.0     750\n",
       "1.0     720\n",
       "13.0    720\n",
       "38.0    690\n",
       "12.0    690\n",
       "4.0     660\n",
       "10.0    660\n",
       "5.0     630\n",
       "25.0    480\n",
       "9.0     480\n",
       "8.0     450\n",
       "7.0     450\n",
       "3.0     450\n",
       "11.0    420\n",
       "35.0    390\n",
       "18.0    390\n",
       "17.0    360\n",
       "14.0    270\n",
       "31.0    270\n",
       "33.0    210\n",
       "15.0    210\n",
       "26.0    180\n",
       "23.0    150\n",
       "16.0    150\n",
       "6.0     150\n",
       "30.0    150\n",
       "28.0    150\n",
       "34.0    120\n",
       "22.0    120\n",
       "36.0    120\n",
       "42.0     90\n",
       "39.0     90\n",
       "21.0     90\n",
       "20.0     90\n",
       "24.0     90\n",
       "40.0     90\n",
       "29.0     90\n",
       "32.0     60\n",
       "0.0      60\n",
       "37.0     60\n",
       "41.0     60\n",
       "27.0     60\n",
       "19.0     60\n",
       "Name: 0, dtype: int64"
      ]
     },
     "execution_count": 8,
     "metadata": {},
     "output_type": "execute_result"
    }
   ],
   "source": [
    "dfTest=pd.DataFrame(testY)[0]\n",
    "plt.hist(dfTest,bins=43);\n",
    "plt.xlabel(\"Index Class\")\n",
    "plt.ylabel(\"Count\")\n",
    "plt.title(\"Test Image Distribution\")\n",
    "plt.show()\n",
    "dfTest.value_counts()"
   ]
  },
  {
   "cell_type": "markdown",
   "metadata": {},
   "source": [
    "The good news is that my training data has an equal balance of all 43 types of traffic signs. This means that my model should have good training experience on all types of signs. Thus the model should be good at classifying all signs instead of being biased to the signs that it experienced the most. The things to be cautious about are that both my validation and test datasets have different distributions compared to the distribution of the training data set. Usually one desires the distributions to be the same across all the datasets. In this case perhaps the true distribution of signs that will be experienced in the real-world will be closer to the distribution of the validation/test data sets. If this is the case, then this is an allowable caution as the model will be better equipped for the real world. \n"
   ]
  },
  {
   "cell_type": "markdown",
   "metadata": {},
   "source": [
    "## Viewing some sample images"
   ]
  },
  {
   "cell_type": "code",
   "execution_count": 9,
   "metadata": {},
   "outputs": [],
   "source": [
    "def showImage(imageArray):\n",
    "    array = np.zeros([32, 32, 3], dtype=np.uint8)\n",
    "    array[:,:,0]=imageArray[0]\n",
    "    array[:,:,1]=imageArray[1]\n",
    "    array[:,:,2]=imageArray[2]\n",
    "    img = Image.fromarray(array, 'RGB')\n",
    "    img.save('my.png')\n",
    "    #img.show()\n",
    "    img=mpimg.imread('my.png')\n",
    "    imgplot = plt.imshow(img)\n",
    "    plt.show()\n",
    "    "
   ]
  },
  {
   "cell_type": "code",
   "execution_count": 10,
   "metadata": {},
   "outputs": [
    {
     "data": {
      "image/png": "[encoded data removed]",
      "text/plain": [
       "<Figure size 432x288 with 1 Axes>"
      ]
     },
     "metadata": {
      "needs_background": "light"
     },
     "output_type": "display_data"
    }
   ],
   "source": [
    "showImage(allDataInDict['x_train'][0])"
   ]
  },
  {
   "cell_type": "code",
   "execution_count": 11,
   "metadata": {},
   "outputs": [
    {
     "data": {
      "image/png": "[encoded data removed]",
      "text/plain": [
       "<Figure size 432x288 with 1 Axes>"
      ]
     },
     "metadata": {
      "needs_background": "light"
     },
     "output_type": "display_data"
    }
   ],
   "source": [
    "showImage(allDataInDict['x_test'][0])"
   ]
  },
  {
   "cell_type": "markdown",
   "metadata": {},
   "source": [
    "## Pixel Scaling and Normalization"
   ]
  },
  {
   "cell_type": "markdown",
   "metadata": {},
   "source": [
    "Neural networks process inputs using small weight values, and inputs with large integer values can disrupt or slow down the learning process. As such it is good practice to normalize the pixel values so that each pixel value has a value between 0 and 1. This can be achieved by dividing all pixels values by the largest pixel value; that is 255.\n",
    "\n",
    "A popular data preparation technique for image data is to subtract the mean value from the pixel values. This approach is called centering, as the distribution of the pixel values is centered on the value of zero. Centering after normalization will mean that the pixels will have positive and negative values.\n",
    "\n",
    "The distribution of pixel values often follows a Normal or Gaussian distribution, e.g. bell shape. This distribution may be present per image, per mini-batch of images, or across the training dataset and globally or per channel. As such, there may be benefit in transforming the distribution of pixel values to be a standard Gaussian: that is both centering the pixel values on zero and normalizing the values by the standard deviation. The result is a standard Gaussian of pixel values with a mean of 0.0 and a standard deviation of 1.0.\n",
    "\n",
    "https://becominghuman.ai/image-data-pre-processing-for-neural-networks-498289068258"
   ]
  },
  {
   "cell_type": "code",
   "execution_count": 12,
   "metadata": {},
   "outputs": [],
   "source": [
    "#Pixel normalization\n",
    "trainScaledX = trainX/255\n",
    "validationScaledX = validationX/255\n",
    "testScaledX = testX/255"
   ]
  },
  {
   "cell_type": "code",
   "execution_count": 13,
   "metadata": {},
   "outputs": [],
   "source": [
    "trainMean=np.mean(trainScaledX)\n",
    "trainSTD=np.std(trainScaledX)"
   ]
  },
  {
   "cell_type": "code",
   "execution_count": 14,
   "metadata": {},
   "outputs": [],
   "source": [
    "trainNormX=(trainScaledX-trainMean)/trainSTD\n",
    "validationNormX=(validationScaledX-trainMean)/trainSTD\n",
    "testNormX=(testScaledX-trainMean)/trainSTD"
   ]
  },
  {
   "cell_type": "code",
   "execution_count": 15,
   "metadata": {},
   "outputs": [
    {
     "name": "stdout",
     "output_type": "stream",
     "text": [
      "New mean on train data: -2.7983685413346393e-06\n",
      "New std on train data: 1.0000014305114746\n"
     ]
    }
   ],
   "source": [
    "print(\"New mean on train data: {}\".format(np.mean(trainNormX)))\n",
    "print(\"New std on train data: {}\".format(np.std(trainNormX)))"
   ]
  },
  {
   "cell_type": "markdown",
   "metadata": {},
   "source": [
    "The images have now gone through standard pixel scaling and normalization and should now be ready to use in a neaural network.\n",
    "\n",
    "An alternative approach is to scale the images using a preferred scaling technique just-in-time during the training or model evaluation process. Keras supports this type of data preparation for image data via the ImageDataGenerator class and API. While I continue this project, I will look to implement this instead of manually normalizing the images as this Keras class may be more computationally effective."
   ]
  },
  {
   "cell_type": "markdown",
   "metadata": {},
   "source": [
    "## Data Reshaping for Keras"
   ]
  },
  {
   "cell_type": "code",
   "execution_count": 16,
   "metadata": {},
   "outputs": [],
   "source": [
    "# Reshape the training and test examples \n",
    "trainX2 = np.moveaxis(trainNormX,[0,1,2,3],[0,3,1,2])\n",
    "validationX2 = np.moveaxis(validationNormX,[0,1,2,3],[0,3,1,2])\n",
    "testX2 = np.moveaxis(testNormX,[0,1,2,3],[0,3,1,2])\n"
   ]
  },
  {
   "cell_type": "code",
   "execution_count": 17,
   "metadata": {},
   "outputs": [
    {
     "data": {
      "text/plain": [
       "(86989, 32, 32, 3)"
      ]
     },
     "execution_count": 17,
     "metadata": {},
     "output_type": "execute_result"
    }
   ],
   "source": [
    "trainX2.shape"
   ]
  },
  {
   "cell_type": "code",
   "execution_count": 18,
   "metadata": {},
   "outputs": [],
   "source": [
    "#Function to re-shape target data to put through Keras layers\n",
    "def oneHot(labels,C):\n",
    "    One_hot_matrix = tf.one_hot(labels,C)\n",
    "    return tf.keras.backend.eval(One_hot_matrix)\n",
    "trainY = oneHot(trainY, 43)\n",
    "validationY = oneHot(validationY, 43)\n",
    "testY = oneHot(testY, 43)\n"
   ]
  },
  {
   "cell_type": "markdown",
   "metadata": {},
   "source": [
    "## CNN Implementation"
   ]
  },
  {
   "cell_type": "markdown",
   "metadata": {},
   "source": [
    "Given that the goal is to classify images properly, I will look to use a convolutional neural network (CNN) as this has been a proven model for image classification. Rather than looking at an entire image at once to find certain features it can be more effective to look at smaller portions of the image. A convolution is essentially sliding a filter over the input. Each convolutional layer contains a series of filters known as convolutional kernels. The filter is a matrix of integers that are used on a subset of the input pixel values, the same size as the kernel. Each pixel is multiplied by the corresponding value in the kernel, then the result is summed up for a single value for simplicity representing a grid cell, like a pixel, in the output channel/feature map.\n",
    "\n",
    "<img src=\"ConvPic.png\"> \n",
    "\n",
    "Similarly CNNs often use max-pooling layers. Neighboring pixels in images tend to have similar values, so convolutional layers will typically also produce similar values for neighboring pixels in outputs. As a result, much of the information contained in a convolution layer’s output is redundant. For example, if we use an edge-detecting filter and find a strong edge at a certain location, chances are that we will also find relatively strong edges at locations 1 pixel shifted from the original one. However, these are all the same edge thus we are not finding anything new. Pooling layers solve this problem. All they do is reduce the size of the input it is given by pooling values together in the input. The pooling is usually done by a simple operation like max, min, or average. A max-pool example is below.\n",
    "\n",
    "<img src=\"MaxPoolPic.png\"> \n",
    "\n",
    "In an initial iteration of the model, there was a lot of overfit on the training data. To counteract this I’ve implemented drop-out layers. Dropout forces a neural network to learn more robust features that are useful in conjunction with many different random subsets of the other neurons. During training, some number of layer outputs are randomly ignored or “dropped out.” This has the effect of making the layer look-like and be treated-like a layer with a different number of nodes and connectivity to the prior layer. In effect, each update to a layer during training is performed with a different “view” of the configured layer. Dropout has the effect of making the training process noisy, forcing nodes within a layer to probabilistically take on more or less responsibility for the inputs. This conceptualization suggests that perhaps dropout breaks-up situations where network layers co-adapt to correct mistakes from prior layers, in turn making the model more robust\n",
    "\n",
    "<img src=\"DropoutPic.png\"> \n",
    "\n",
    "\n"
   ]
  },
  {
   "cell_type": "code",
   "execution_count": 19,
   "metadata": {},
   "outputs": [
    {
     "name": "stdout",
     "output_type": "stream",
     "text": [
      "WARNING:tensorflow:From C:\\Users\\Jorge\\Anaconda3.1\\lib\\site-packages\\tensorflow\\python\\ops\\init_ops.py:1251: calling VarianceScaling.__init__ (from tensorflow.python.ops.init_ops) with dtype is deprecated and will be removed in a future version.\n",
      "Instructions for updating:\n",
      "Call initializer instance with the dtype argument instead of passing it to the constructor\n"
     ]
    }
   ],
   "source": [
    "model = tf.keras.Sequential([\n",
    "    tf.keras.layers.Conv2D(64, 3, activation='relu', input_shape=(32,32,3)),\n",
    "    tf.keras.layers.Conv2D(128, 3, activation='relu'),\n",
    "    tf.keras.layers.MaxPool2D(padding = 'same',strides=2),\n",
    "    tf.keras.layers.Dropout(.15),\n",
    "    tf.keras.layers.Conv2D(128, 5, activation='relu',padding=\"same\"),\n",
    "    tf.keras.layers.MaxPool2D(padding = 'same',strides=2),\n",
    "    tf.keras.layers.Dropout(.2),\n",
    "    tf.keras.layers.Flatten(),\n",
    "    tf.keras.layers.Dense(300, activation='relu'),\n",
    "    tf.keras.layers.Dense(43, activation='softmax')\n",
    "])\n",
    "\n",
    "\n",
    "model.compile(optimizer=tf.keras.optimizers.Adam(learning_rate=0.001),loss=tf.keras.losses.CategoricalCrossentropy(), metrics=['accuracy'])"
   ]
  },
  {
   "cell_type": "code",
   "execution_count": 20,
   "metadata": {
    "scrolled": true
   },
   "outputs": [
    {
     "name": "stdout",
     "output_type": "stream",
     "text": [
      "Train on 86989 samples, validate on 4410 samples\n",
      "Epoch 1/10\n",
      "86989/86989 [==============================] - 1580s 18ms/sample - loss: 0.6008 - acc: 0.8363 - val_loss: 0.2490 - val_acc: 0.9363\n",
      "Epoch 2/10\n",
      "86989/86989 [==============================] - 9313s 107ms/sample - loss: 0.0389 - acc: 0.9897 - val_loss: 0.2370 - val_acc: 0.9438\n",
      "Epoch 3/10\n",
      "86989/86989 [==============================] - 1119s 13ms/sample - loss: 0.0251 - acc: 0.9929 - val_loss: 0.2913 - val_acc: 0.9619\n",
      "Epoch 4/10\n",
      "86989/86989 [==============================] - 1139s 13ms/sample - loss: 0.0184 - acc: 0.9950 - val_loss: 0.2369 - val_acc: 0.9633\n",
      "Epoch 5/10\n",
      "86989/86989 [==============================] - 1130s 13ms/sample - loss: 0.0145 - acc: 0.9958 - val_loss: 0.1956 - val_acc: 0.9651\n",
      "Epoch 6/10\n",
      "86989/86989 [==============================] - 1139s 13ms/sample - loss: 0.0126 - acc: 0.9961 - val_loss: 0.3461 - val_acc: 0.9637\n",
      "Epoch 7/10\n",
      "86989/86989 [==============================] - 1135s 13ms/sample - loss: 0.0146 - acc: 0.9961 - val_loss: 0.1295 - val_acc: 0.9726\n",
      "Epoch 8/10\n",
      "86989/86989 [==============================] - 1287s 15ms/sample - loss: 0.0061 - acc: 0.9981 - val_loss: 0.2148 - val_acc: 0.9757\n",
      "Epoch 9/10\n",
      "86989/86989 [==============================] - 1516s 17ms/sample - loss: 0.0146 - acc: 0.9960 - val_loss: 0.1616 - val_acc: 0.9741\n",
      "Epoch 10/10\n",
      "86989/86989 [==============================] - 1528s 18ms/sample - loss: 0.0132 - acc: 0.9964 - val_loss: 0.1639 - val_acc: 0.9730\n"
     ]
    }
   ],
   "source": [
    "result = model.fit(x=trainX2,y=trainY,batch_size=256,epochs=10,verbose=1,shuffle=False,initial_epoch=0,validation_data=(validationX2,validationY))"
   ]
  },
  {
   "cell_type": "code",
   "execution_count": 70,
   "metadata": {},
   "outputs": [
    {
     "data": {
      "image/png": "[encoded data removed]",
      "text/plain": [
       "<Figure size 432x288 with 1 Axes>"
      ]
     },
     "metadata": {
      "needs_background": "light"
     },
     "output_type": "display_data"
    }
   ],
   "source": [
    "plt.plot(result.history['acc'])\n",
    "plt.plot(result.history['loss'])\n",
    "plt.title('Model Training accuracy')\n",
    "plt.ylabel('Accuracy/Loss')\n",
    "plt.xlabel('Epoch')\n",
    "plt.show()\n"
   ]
  },
  {
   "cell_type": "code",
   "execution_count": 71,
   "metadata": {},
   "outputs": [
    {
     "data": {
      "image/png": "[encoded data removed]",
      "text/plain": [
       "<Figure size 432x288 with 1 Axes>"
      ]
     },
     "metadata": {
      "needs_background": "light"
     },
     "output_type": "display_data"
    }
   ],
   "source": [
    "plt.plot(result.history['val_acc'])\n",
    "plt.plot(result.history['val_loss'])\n",
    "plt.title('Model Validation accuracy')\n",
    "plt.ylabel('Accuracy/Loss')\n",
    "plt.xlabel('Epoch')\n",
    "plt.show()\n"
   ]
  },
  {
   "cell_type": "code",
   "execution_count": 22,
   "metadata": {},
   "outputs": [
    {
     "name": "stdout",
     "output_type": "stream",
     "text": [
      "4410/4410 - 29s - loss: 0.1639 - acc: 0.9730\n"
     ]
    }
   ],
   "source": [
    "valid = model.evaluate(validationX2,validationY,verbose=2)"
   ]
  },
  {
   "cell_type": "code",
   "execution_count": 23,
   "metadata": {},
   "outputs": [
    {
     "name": "stdout",
     "output_type": "stream",
     "text": [
      "12630/12630 - 86s - loss: 0.2651 - acc: 0.9577\n"
     ]
    }
   ],
   "source": [
    "test = model.evaluate(testX2,testY,verbose=2)"
   ]
  },
  {
   "cell_type": "markdown",
   "metadata": {},
   "source": [
    "So the model is doing very well on the training data with over 99% accuracy. This is not very surprising given the good quality of training data I am working with. The validation and test accuracies are hovering over 97% and 96% accuracy, respectively. Compared to a previous iteration of my CNN, I have significantly decreased the overfitting which makes the model better for real world implementation. \n"
   ]
  },
  {
   "cell_type": "markdown",
   "metadata": {},
   "source": [
    "## Further Analysis"
   ]
  },
  {
   "cell_type": "code",
   "execution_count": 24,
   "metadata": {},
   "outputs": [
    {
     "data": {
      "text/plain": [
       "array([[3.3293010e-23, 5.9947598e-23, 1.0036170e-19, ..., 1.9261073e-25,\n",
       "        1.3078284e-22, 2.5272335e-20],\n",
       "       [1.1947665e-09, 3.1095119e-08, 1.5161229e-08, ..., 1.3484760e-07,\n",
       "        2.1579469e-11, 4.4495971e-10],\n",
       "       [0.0000000e+00, 0.0000000e+00, 0.0000000e+00, ..., 0.0000000e+00,\n",
       "        0.0000000e+00, 0.0000000e+00],\n",
       "       ...,\n",
       "       [1.4300139e-18, 8.3594856e-18, 3.6451831e-18, ..., 9.7395399e-12,\n",
       "        6.1159972e-19, 1.1211598e-18],\n",
       "       [0.0000000e+00, 0.0000000e+00, 0.0000000e+00, ..., 0.0000000e+00,\n",
       "        0.0000000e+00, 0.0000000e+00],\n",
       "       [1.4371694e-21, 5.5052626e-21, 6.4718657e-18, ..., 7.3015205e-23,\n",
       "        6.0099601e-24, 8.9106364e-20]], dtype=float32)"
      ]
     },
     "execution_count": 24,
     "metadata": {},
     "output_type": "execute_result"
    }
   ],
   "source": [
    "testClasses=model.predict(testX2)\n",
    "testClasses"
   ]
  },
  {
   "cell_type": "code",
   "execution_count": 26,
   "metadata": {},
   "outputs": [],
   "source": [
    "predictedLabels=np.argmax(testClasses,axis=1)"
   ]
  },
  {
   "cell_type": "code",
   "execution_count": 27,
   "metadata": {},
   "outputs": [],
   "source": [
    "trueLabels=np.argmax(testY,axis=1)"
   ]
  },
  {
   "cell_type": "code",
   "execution_count": 28,
   "metadata": {},
   "outputs": [],
   "source": [
    "differences=trueLabels-predictedLabels"
   ]
  },
  {
   "cell_type": "code",
   "execution_count": 29,
   "metadata": {},
   "outputs": [],
   "source": [
    "incorrectPredictions=[(index,trueLabels[index],predictedLabels[index]) for index,a in enumerate(differences) if a!=0]"
   ]
  },
  {
   "cell_type": "code",
   "execution_count": 30,
   "metadata": {},
   "outputs": [],
   "source": [
    "incorrectPredictions2=[(trueLabels[index],predictedLabels[index]) for index,a in enumerate(differences) if a!=0]"
   ]
  },
  {
   "cell_type": "code",
   "execution_count": 31,
   "metadata": {},
   "outputs": [],
   "source": [
    "from collections import Counter"
   ]
  },
  {
   "cell_type": "code",
   "execution_count": 32,
   "metadata": {},
   "outputs": [
    {
     "data": {
      "text/plain": [
       "[((5, 2), 33),\n",
       " ((21, 31), 27),\n",
       " ((18, 31), 17),\n",
       " ((25, 11), 16),\n",
       " ((6, 38), 16),\n",
       " ((18, 25), 16),\n",
       " ((4, 7), 14),\n",
       " ((30, 29), 13),\n",
       " ((9, 10), 12),\n",
       " ((27, 11), 11),\n",
       " ((8, 5), 11),\n",
       " ((18, 26), 10),\n",
       " ((6, 5), 9),\n",
       " ((18, 27), 9),\n",
       " ((26, 25), 9),\n",
       " ((18, 11), 9),\n",
       " ((11, 25), 8),\n",
       " ((27, 23), 8),\n",
       " ((3, 5), 8),\n",
       " ((12, 40), 7),\n",
       " ((30, 23), 7),\n",
       " ((30, 20), 7),\n",
       " ((30, 25), 7),\n",
       " ((35, 34), 6),\n",
       " ((30, 31), 6),\n",
       " ((12, 11), 6),\n",
       " ((18, 22), 6),\n",
       " ((28, 30), 6),\n",
       " ((20, 25), 5),\n",
       " ((1, 2), 5),\n",
       " ((7, 5), 5),\n",
       " ((12, 15), 5),\n",
       " ((28, 23), 5),\n",
       " ((20, 23), 5),\n",
       " ((26, 29), 5),\n",
       " ((25, 39), 5),\n",
       " ((41, 12), 5),\n",
       " ((40, 7), 5),\n",
       " ((5, 7), 5),\n",
       " ((21, 1), 4),\n",
       " ((2, 1), 4),\n",
       " ((11, 30), 4),\n",
       " ((30, 39), 4),\n",
       " ((10, 31), 4),\n",
       " ((27, 25), 4),\n",
       " ((42, 12), 4),\n",
       " ((4, 5), 4),\n",
       " ((9, 3), 3),\n",
       " ((8, 7), 3),\n",
       " ((23, 19), 3),\n",
       " ((8, 31), 3),\n",
       " ((31, 20), 3),\n",
       " ((5, 20), 3),\n",
       " ((2, 3), 3),\n",
       " ((25, 27), 3),\n",
       " ((11, 23), 3),\n",
       " ((7, 8), 3),\n",
       " ((4, 1), 3),\n",
       " ((5, 3), 2),\n",
       " ((32, 1), 2),\n",
       " ((8, 39), 2),\n",
       " ((1, 25), 2),\n",
       " ((24, 30), 2),\n",
       " ((40, 5), 2),\n",
       " ((26, 18), 2),\n",
       " ((28, 29), 2),\n",
       " ((1, 4), 2),\n",
       " ((5, 39), 2),\n",
       " ((2, 14), 2),\n",
       " ((7, 40), 2),\n",
       " ((8, 13), 2),\n",
       " ((22, 25), 2),\n",
       " ((20, 19), 2),\n",
       " ((0, 1), 2),\n",
       " ((26, 22), 2),\n",
       " ((24, 11), 2),\n",
       " ((8, 4), 2),\n",
       " ((11, 27), 1),\n",
       " ((30, 34), 1),\n",
       " ((10, 29), 1),\n",
       " ((13, 5), 1),\n",
       " ((6, 20), 1),\n",
       " ((8, 20), 1),\n",
       " ((24, 22), 1),\n",
       " ((3, 10), 1),\n",
       " ((20, 11), 1),\n",
       " ((27, 2), 1),\n",
       " ((25, 26), 1),\n",
       " ((17, 23), 1),\n",
       " ((41, 38), 1),\n",
       " ((13, 38), 1),\n",
       " ((24, 25), 1),\n",
       " ((24, 27), 1),\n",
       " ((20, 31), 1),\n",
       " ((24, 28), 1),\n",
       " ((24, 2), 1),\n",
       " ((22, 26), 1),\n",
       " ((4, 38), 1),\n",
       " ((30, 28), 1),\n",
       " ((3, 2), 1),\n",
       " ((13, 30), 1),\n",
       " ((40, 37), 1),\n",
       " ((27, 31), 1),\n",
       " ((27, 30), 1),\n",
       " ((5, 4), 1),\n",
       " ((7, 2), 1),\n",
       " ((30, 33), 1),\n",
       " ((21, 19), 1),\n",
       " ((18, 21), 1),\n",
       " ((5, 10), 1),\n",
       " ((10, 1), 1),\n",
       " ((4, 19), 1),\n",
       " ((21, 12), 1),\n",
       " ((24, 18), 1),\n",
       " ((4, 26), 1),\n",
       " ((3, 22), 1),\n",
       " ((28, 11), 1),\n",
       " ((2, 25), 1),\n",
       " ((13, 11), 1),\n",
       " ((38, 39), 1),\n",
       " ((1, 38), 1),\n",
       " ((20, 28), 1),\n",
       " ((34, 0), 1),\n",
       " ((22, 23), 1),\n",
       " ((23, 20), 1),\n",
       " ((18, 19), 1),\n",
       " ((1, 7), 1),\n",
       " ((10, 19), 1),\n",
       " ((4, 13), 1),\n",
       " ((4, 32), 1),\n",
       " ((30, 1), 1),\n",
       " ((14, 3), 1),\n",
       " ((40, 34), 1),\n",
       " ((35, 38), 1),\n",
       " ((18, 28), 1),\n",
       " ((21, 38), 1),\n",
       " ((4, 0), 1),\n",
       " ((39, 33), 1),\n",
       " ((33, 39), 1)]"
      ]
     },
     "execution_count": 32,
     "metadata": {},
     "output_type": "execute_result"
    }
   ],
   "source": [
    "#The most common type of mislabeled pairs (True Label,Predicted Label)\n",
    "Counter(incorrectPredictions2).most_common()"
   ]
  },
  {
   "cell_type": "code",
   "execution_count": 33,
   "metadata": {},
   "outputs": [
    {
     "data": {
      "text/plain": [
       "[(41, 5, 3),\n",
       " (70, 21, 31),\n",
       " (71, 11, 25),\n",
       " (110, 11, 27),\n",
       " (112, 35, 34),\n",
       " (169, 20, 25),\n",
       " (241, 32, 1),\n",
       " (289, 25, 11),\n",
       " (298, 8, 39),\n",
       " (301, 18, 26),\n",
       " (310, 6, 38),\n",
       " (357, 1, 2),\n",
       " (376, 7, 5),\n",
       " (422, 30, 31),\n",
       " (453, 18, 31),\n",
       " (461, 6, 5),\n",
       " (474, 30, 29),\n",
       " (502, 27, 23),\n",
       " (511, 4, 7),\n",
       " (595, 21, 31),\n",
       " (655, 12, 11),\n",
       " (690, 25, 11),\n",
       " (727, 4, 7),\n",
       " (733, 18, 25),\n",
       " (742, 12, 15),\n",
       " (745, 30, 34),\n",
       " (746, 18, 31),\n",
       " (781, 21, 1),\n",
       " (786, 6, 5),\n",
       " (821, 1, 25),\n",
       " (822, 9, 10),\n",
       " (833, 18, 27),\n",
       " (932, 26, 25),\n",
       " (961, 9, 3),\n",
       " (973, 12, 11),\n",
       " (975, 8, 7),\n",
       " (1000, 35, 34),\n",
       " (1029, 6, 38),\n",
       " (1035, 2, 1),\n",
       " (1041, 35, 34),\n",
       " (1113, 28, 23),\n",
       " (1114, 18, 31),\n",
       " (1122, 18, 22),\n",
       " (1125, 10, 29),\n",
       " (1138, 25, 11),\n",
       " (1177, 18, 25),\n",
       " (1184, 30, 31),\n",
       " (1216, 25, 11),\n",
       " (1219, 13, 5),\n",
       " (1241, 20, 23),\n",
       " (1243, 27, 11),\n",
       " (1272, 8, 5),\n",
       " (1315, 6, 20),\n",
       " (1320, 18, 25),\n",
       " (1383, 21, 31),\n",
       " (1398, 5, 2),\n",
       " (1424, 1, 2),\n",
       " (1463, 18, 31),\n",
       " (1481, 26, 29),\n",
       " (1505, 28, 30),\n",
       " (1515, 27, 23),\n",
       " (1521, 26, 25),\n",
       " (1528, 23, 19),\n",
       " (1540, 8, 31),\n",
       " (1574, 8, 20),\n",
       " (1577, 18, 27),\n",
       " (1594, 25, 39),\n",
       " (1642, 12, 40),\n",
       " (1647, 6, 5),\n",
       " (1706, 5, 3),\n",
       " (1708, 9, 10),\n",
       " (1711, 24, 22),\n",
       " (1763, 27, 11),\n",
       " (1776, 25, 11),\n",
       " (1841, 24, 30),\n",
       " (1865, 24, 30),\n",
       " (1873, 11, 30),\n",
       " (1897, 30, 29),\n",
       " (1906, 27, 11),\n",
       " (1915, 26, 25),\n",
       " (1958, 30, 29),\n",
       " (1982, 18, 31),\n",
       " (2029, 40, 5),\n",
       " (2056, 18, 31),\n",
       " (2095, 18, 31),\n",
       " (2146, 5, 2),\n",
       " (2207, 30, 31),\n",
       " (2209, 3, 10),\n",
       " (2227, 41, 12),\n",
       " (2264, 20, 11),\n",
       " (2290, 9, 10),\n",
       " (2292, 27, 2),\n",
       " (2299, 26, 18),\n",
       " (2343, 21, 1),\n",
       " (2352, 27, 11),\n",
       " (2356, 30, 23),\n",
       " (2422, 18, 11),\n",
       " (2433, 18, 25),\n",
       " (2458, 25, 26),\n",
       " (2474, 18, 25),\n",
       " (2476, 17, 23),\n",
       " (2494, 30, 39),\n",
       " (2516, 30, 20),\n",
       " (2518, 10, 31),\n",
       " (2558, 2, 1),\n",
       " (2620, 18, 22),\n",
       " (2653, 3, 5),\n",
       " (2658, 41, 38),\n",
       " (2694, 13, 38),\n",
       " (2729, 18, 31),\n",
       " (2747, 21, 31),\n",
       " (2768, 30, 29),\n",
       " (2769, 18, 26),\n",
       " (2776, 5, 2),\n",
       " (2830, 6, 5),\n",
       " (2866, 9, 10),\n",
       " (2882, 18, 22),\n",
       " (2897, 5, 2),\n",
       " (2910, 21, 31),\n",
       " (2915, 28, 29),\n",
       " (2950, 25, 11),\n",
       " (2953, 8, 7),\n",
       " (2957, 18, 25),\n",
       " (2971, 28, 23),\n",
       " (3123, 18, 27),\n",
       " (3142, 4, 7),\n",
       " (3148, 27, 25),\n",
       " (3170, 28, 23),\n",
       " (3186, 8, 5),\n",
       " (3199, 10, 31),\n",
       " (3226, 41, 12),\n",
       " (3237, 1, 4),\n",
       " (3255, 5, 39),\n",
       " (3270, 27, 25),\n",
       " (3291, 6, 5),\n",
       " (3318, 6, 38),\n",
       " (3348, 25, 11),\n",
       " (3403, 11, 25),\n",
       " (3404, 11, 25),\n",
       " (3516, 9, 10),\n",
       " (3518, 30, 25),\n",
       " (3567, 5, 2),\n",
       " (3577, 11, 30),\n",
       " (3622, 32, 1),\n",
       " (3638, 11, 30),\n",
       " (3648, 24, 25),\n",
       " (3650, 24, 27),\n",
       " (3678, 20, 23),\n",
       " (3699, 42, 12),\n",
       " (3726, 20, 31),\n",
       " (3730, 8, 5),\n",
       " (3733, 24, 28),\n",
       " (3745, 24, 2),\n",
       " (3769, 18, 25),\n",
       " (3795, 18, 27),\n",
       " (3844, 40, 7),\n",
       " (3861, 10, 31),\n",
       " (3870, 9, 10),\n",
       " (3909, 2, 14),\n",
       " (3955, 20, 25),\n",
       " (3962, 18, 31),\n",
       " (3987, 26, 29),\n",
       " (4016, 21, 31),\n",
       " (4061, 28, 30),\n",
       " (4084, 28, 30),\n",
       " (4114, 31, 20),\n",
       " (4168, 20, 25),\n",
       " (4173, 27, 23),\n",
       " (4175, 6, 38),\n",
       " (4178, 21, 1),\n",
       " (4208, 23, 19),\n",
       " (4316, 21, 31),\n",
       " (4341, 42, 12),\n",
       " (4364, 22, 26),\n",
       " (4368, 28, 23),\n",
       " (4441, 18, 31),\n",
       " (4442, 18, 31),\n",
       " (4450, 30, 23),\n",
       " (4512, 4, 38),\n",
       " (4523, 4, 7),\n",
       " (4561, 30, 28),\n",
       " (4599, 8, 39),\n",
       " (4632, 3, 2),\n",
       " (4636, 21, 31),\n",
       " (4677, 8, 5),\n",
       " (4687, 27, 23),\n",
       " (4689, 5, 7),\n",
       " (4699, 5, 2),\n",
       " (4715, 25, 39),\n",
       " (4740, 4, 5),\n",
       " (4761, 13, 30),\n",
       " (4767, 12, 11),\n",
       " (4775, 6, 5),\n",
       " (4797, 40, 37),\n",
       " (4805, 18, 25),\n",
       " (4817, 5, 2),\n",
       " (4861, 5, 2),\n",
       " (4894, 5, 2),\n",
       " (4919, 1, 2),\n",
       " (4965, 18, 25),\n",
       " (4973, 23, 19),\n",
       " (4974, 18, 26),\n",
       " (4994, 27, 31),\n",
       " (5030, 27, 11),\n",
       " (5034, 30, 23),\n",
       " (5036, 21, 31),\n",
       " (5045, 30, 39),\n",
       " (5065, 30, 29),\n",
       " (5077, 25, 11),\n",
       " (5086, 6, 5),\n",
       " (5115, 5, 2),\n",
       " (5123, 6, 38),\n",
       " (5136, 6, 38),\n",
       " (5141, 18, 22),\n",
       " (5223, 1, 25),\n",
       " (5241, 4, 5),\n",
       " (5256, 5, 2),\n",
       " (5286, 30, 29),\n",
       " (5295, 27, 11),\n",
       " (5312, 27, 23),\n",
       " (5338, 40, 7),\n",
       " (5344, 40, 7),\n",
       " (5350, 25, 11),\n",
       " (5366, 5, 20),\n",
       " (5421, 4, 7),\n",
       " (5428, 1, 2),\n",
       " (5433, 35, 34),\n",
       " (5448, 8, 7),\n",
       " (5453, 9, 10),\n",
       " (5459, 2, 3),\n",
       " (5472, 18, 26),\n",
       " (5487, 7, 40),\n",
       " (5530, 21, 31),\n",
       " (5569, 12, 40),\n",
       " (5632, 25, 39),\n",
       " (5634, 18, 11),\n",
       " (5639, 30, 20),\n",
       " (5646, 40, 7),\n",
       " (5653, 27, 30),\n",
       " (5671, 18, 26),\n",
       " (5679, 25, 27),\n",
       " (5683, 12, 11),\n",
       " (5700, 7, 40),\n",
       " (5738, 21, 31),\n",
       " (5787, 9, 10),\n",
       " (5813, 2, 3),\n",
       " (5829, 11, 25),\n",
       " (5872, 25, 11),\n",
       " (5879, 8, 13),\n",
       " (5919, 30, 39),\n",
       " (5973, 21, 1),\n",
       " (5996, 25, 11),\n",
       " (6008, 5, 2),\n",
       " (6040, 30, 20),\n",
       " (6108, 27, 11),\n",
       " (6152, 20, 23),\n",
       " (6191, 26, 29),\n",
       " (6216, 5, 4),\n",
       " (6244, 12, 11),\n",
       " (6256, 7, 2),\n",
       " (6271, 12, 40),\n",
       " (6283, 22, 25),\n",
       " (6288, 7, 5),\n",
       " (6313, 5, 2),\n",
       " (6319, 30, 33),\n",
       " (6322, 5, 2),\n",
       " (6342, 5, 20),\n",
       " (6346, 26, 25),\n",
       " (6353, 21, 19),\n",
       " (6382, 5, 7),\n",
       " (6403, 9, 3),\n",
       " (6420, 8, 5),\n",
       " (6438, 18, 27),\n",
       " (6448, 4, 5),\n",
       " (6470, 18, 26),\n",
       " (6504, 5, 2),\n",
       " (6519, 18, 21),\n",
       " (6618, 12, 40),\n",
       " (6640, 18, 26),\n",
       " (6678, 6, 38),\n",
       " (6681, 30, 25),\n",
       " (6778, 18, 11),\n",
       " (6787, 26, 25),\n",
       " (6790, 11, 23),\n",
       " (6875, 21, 31),\n",
       " (6881, 20, 25),\n",
       " (6884, 8, 5),\n",
       " (6904, 30, 25),\n",
       " (6916, 5, 20),\n",
       " (6931, 8, 31),\n",
       " (6978, 21, 31),\n",
       " (7038, 27, 25),\n",
       " (7041, 5, 10),\n",
       " (7066, 26, 29),\n",
       " (7081, 41, 12),\n",
       " (7144, 10, 1),\n",
       " (7151, 7, 8),\n",
       " (7184, 25, 11),\n",
       " (7214, 18, 27),\n",
       " (7222, 6, 38),\n",
       " (7298, 6, 38),\n",
       " (7318, 30, 25),\n",
       " (7335, 6, 38),\n",
       " (7343, 18, 25),\n",
       " (7365, 18, 11),\n",
       " (7370, 4, 19),\n",
       " (7442, 30, 23),\n",
       " (7462, 41, 12),\n",
       " (7494, 30, 25),\n",
       " (7502, 20, 19),\n",
       " (7518, 18, 25),\n",
       " (7580, 11, 25),\n",
       " (7656, 28, 29),\n",
       " (7754, 6, 5),\n",
       " (7774, 11, 23),\n",
       " (7787, 30, 31),\n",
       " (7827, 25, 39),\n",
       " (7852, 21, 31),\n",
       " (7861, 8, 5),\n",
       " (7875, 21, 12),\n",
       " (7892, 24, 18),\n",
       " (7904, 4, 26),\n",
       " (7932, 40, 5),\n",
       " (7970, 3, 22),\n",
       " (8006, 9, 3),\n",
       " (8056, 30, 20),\n",
       " (8057, 28, 11),\n",
       " (8059, 5, 39),\n",
       " (8110, 2, 25),\n",
       " (8117, 9, 10),\n",
       " (8120, 5, 7),\n",
       " (8148, 5, 2),\n",
       " (8151, 5, 2),\n",
       " (8153, 18, 31),\n",
       " (8177, 5, 2),\n",
       " (8179, 5, 2),\n",
       " (8184, 18, 11),\n",
       " (8218, 7, 8),\n",
       " (8238, 4, 1),\n",
       " (8252, 12, 40),\n",
       " (8260, 26, 25),\n",
       " (8285, 42, 12),\n",
       " (8286, 26, 25),\n",
       " (8299, 28, 23),\n",
       " (8311, 13, 11),\n",
       " (8377, 18, 25),\n",
       " (8451, 18, 27),\n",
       " (8458, 11, 25),\n",
       " (8460, 38, 39),\n",
       " (8468, 26, 25),\n",
       " (8474, 42, 12),\n",
       " (8493, 7, 5),\n",
       " (8537, 27, 11),\n",
       " (8561, 18, 27),\n",
       " (8601, 21, 31),\n",
       " (8624, 0, 1),\n",
       " (8695, 30, 25),\n",
       " (8708, 20, 23),\n",
       " (8723, 18, 11),\n",
       " (8742, 1, 38),\n",
       " (8786, 20, 28),\n",
       " (8804, 26, 22),\n",
       " (8821, 12, 15),\n",
       " (8890, 18, 11),\n",
       " (8946, 21, 31),\n",
       " (8990, 8, 13),\n",
       " (9009, 30, 29),\n",
       " (9040, 4, 7),\n",
       " (9049, 4, 7),\n",
       " (9102, 4, 7),\n",
       " (9118, 34, 0),\n",
       " (9135, 9, 10),\n",
       " (9190, 5, 7),\n",
       " (9194, 25, 11),\n",
       " (9199, 5, 2),\n",
       " (9261, 5, 2),\n",
       " (9286, 21, 31),\n",
       " (9288, 18, 11),\n",
       " (9315, 25, 11),\n",
       " (9325, 21, 31),\n",
       " (9331, 1, 4),\n",
       " (9353, 6, 38),\n",
       " (9358, 18, 11),\n",
       " (9376, 22, 23),\n",
       " (9382, 27, 23),\n",
       " (9410, 7, 5),\n",
       " (9414, 20, 23),\n",
       " (9456, 23, 20),\n",
       " (9467, 30, 29),\n",
       " (9470, 22, 25),\n",
       " (9543, 31, 20),\n",
       " (9564, 35, 34),\n",
       " (9584, 24, 11),\n",
       " (9600, 21, 31),\n",
       " (9633, 18, 31),\n",
       " (9695, 30, 25),\n",
       " (9700, 18, 25),\n",
       " (9722, 12, 11),\n",
       " (9735, 20, 25),\n",
       " (9755, 18, 25),\n",
       " (9759, 25, 27),\n",
       " (9767, 5, 2),\n",
       " (9775, 5, 2),\n",
       " (9780, 3, 5),\n",
       " (9821, 30, 31),\n",
       " (9844, 6, 38),\n",
       " (9847, 18, 19),\n",
       " (9851, 4, 7),\n",
       " (9852, 6, 38),\n",
       " (9881, 40, 7),\n",
       " (9883, 21, 31),\n",
       " (9901, 2, 1),\n",
       " (9907, 18, 31),\n",
       " (9926, 12, 15),\n",
       " (9930, 27, 11),\n",
       " (9994, 30, 23),\n",
       " (9996, 18, 22),\n",
       " (10037, 8, 4),\n",
       " (10104, 25, 27),\n",
       " (10116, 11, 25),\n",
       " (10159, 1, 7),\n",
       " (10167, 27, 11),\n",
       " (10171, 11, 23),\n",
       " (10204, 5, 2),\n",
       " (10205, 18, 26),\n",
       " (10209, 18, 26),\n",
       " (10215, 10, 19),\n",
       " (10237, 4, 13),\n",
       " (10245, 26, 25),\n",
       " (10332, 28, 30),\n",
       " (10404, 2, 1),\n",
       " (10461, 12, 15),\n",
       " (10504, 4, 1),\n",
       " (10506, 8, 5),\n",
       " (10566, 12, 40),\n",
       " (10596, 4, 32),\n",
       " (10599, 5, 2),\n",
       " (10600, 31, 20),\n",
       " (10604, 18, 25),\n",
       " (10618, 30, 1),\n",
       " (10619, 28, 30),\n",
       " (10622, 21, 31),\n",
       " (10630, 18, 27),\n",
       " (10650, 4, 7),\n",
       " (10685, 5, 2),\n",
       " (10696, 30, 20),\n",
       " (10756, 14, 3),\n",
       " (10801, 40, 34),\n",
       " (10809, 0, 1),\n",
       " (10841, 7, 8),\n",
       " (10877, 30, 29),\n",
       " (10888, 5, 2),\n",
       " (10900, 21, 31),\n",
       " (10902, 1, 2),\n",
       " (10913, 30, 29),\n",
       " (10961, 4, 7),\n",
       " (11007, 24, 11),\n",
       " (11008, 25, 11),\n",
       " (11027, 12, 15),\n",
       " (11045, 5, 2),\n",
       " (11064, 11, 25),\n",
       " (11092, 3, 5),\n",
       " (11126, 5, 2),\n",
       " (11146, 3, 5),\n",
       " (11195, 25, 39),\n",
       " (11200, 26, 29),\n",
       " (11204, 8, 5),\n",
       " (11212, 30, 29),\n",
       " (11218, 28, 30),\n",
       " (11221, 27, 25),\n",
       " (11234, 27, 23),\n",
       " (11253, 26, 22),\n",
       " (11320, 3, 5),\n",
       " (11425, 5, 2),\n",
       " (11457, 18, 22),\n",
       " (11466, 5, 2),\n",
       " (11488, 35, 38),\n",
       " (11502, 27, 23),\n",
       " (11515, 30, 23),\n",
       " (11555, 18, 28),\n",
       " (11588, 12, 40),\n",
       " (11591, 6, 5),\n",
       " (11604, 21, 31),\n",
       " (11620, 3, 5),\n",
       " (11625, 18, 31),\n",
       " (11649, 6, 38),\n",
       " (11684, 4, 7),\n",
       " (11728, 5, 7),\n",
       " (11748, 11, 30),\n",
       " (11749, 21, 38),\n",
       " (11765, 41, 12),\n",
       " (11793, 30, 31),\n",
       " (11850, 27, 11),\n",
       " (11856, 18, 31),\n",
       " (11861, 4, 7),\n",
       " (11873, 30, 20),\n",
       " (11874, 10, 31),\n",
       " (11917, 4, 1),\n",
       " (11933, 6, 38),\n",
       " (11939, 21, 31),\n",
       " (11947, 4, 5),\n",
       " (11951, 8, 5),\n",
       " (11994, 7, 5),\n",
       " (12030, 3, 5),\n",
       " (12034, 4, 0),\n",
       " (12040, 30, 29),\n",
       " (12054, 2, 3),\n",
       " (12063, 25, 11),\n",
       " (12072, 21, 31),\n",
       " (12090, 30, 20),\n",
       " (12104, 39, 33),\n",
       " (12122, 8, 5),\n",
       " (12141, 8, 4),\n",
       " (12197, 18, 31),\n",
       " (12215, 4, 7),\n",
       " (12216, 30, 29),\n",
       " (12241, 18, 25),\n",
       " (12248, 9, 10),\n",
       " (12273, 8, 31),\n",
       " (12276, 21, 31),\n",
       " (12303, 21, 31),\n",
       " (12309, 30, 39),\n",
       " (12353, 18, 26),\n",
       " (12361, 30, 23),\n",
       " (12364, 9, 10),\n",
       " (12376, 3, 5),\n",
       " (12391, 5, 2),\n",
       " (12455, 33, 39),\n",
       " (12494, 35, 34),\n",
       " (12521, 20, 19),\n",
       " (12530, 5, 2),\n",
       " (12545, 26, 18),\n",
       " (12565, 2, 14),\n",
       " (12611, 6, 38)]"
      ]
     },
     "execution_count": 33,
     "metadata": {},
     "output_type": "execute_result"
    }
   ],
   "source": [
    "#All Incorrect predictions and their index (Index,True Label, Predicted label)\n",
    "incorrectPredictions"
   ]
  },
  {
   "cell_type": "markdown",
   "metadata": {},
   "source": [
    "Trying to find an understanding of the 3 most incorrect label pair predictions and see if there's anything obviously off"
   ]
  },
  {
   "cell_type": "code",
   "execution_count": 45,
   "metadata": {},
   "outputs": [
    {
     "data": {
      "image/png": "[encoded data removed]",
      "text/plain": [
       "<Figure size 432x288 with 1 Axes>"
      ]
     },
     "metadata": {
      "needs_background": "light"
     },
     "output_type": "display_data"
    },
    {
     "data": {
      "image/png": "[encoded data removed]",
      "text/plain": [
       "<Figure size 432x288 with 1 Axes>"
      ]
     },
     "metadata": {
      "needs_background": "light"
     },
     "output_type": "display_data"
    },
    {
     "data": {
      "image/png": "[encoded data removed]",
      "text/plain": [
       "<Figure size 432x288 with 1 Axes>"
      ]
     },
     "metadata": {
      "needs_background": "light"
     },
     "output_type": "display_data"
    },
    {
     "data": {
      "image/png": "[encoded data removed]",
      "text/plain": [
       "<Figure size 432x288 with 1 Axes>"
      ]
     },
     "metadata": {
      "needs_background": "light"
     },
     "output_type": "display_data"
    },
    {
     "data": {
      "image/png": "[encoded data removed]",
      "text/plain": [
       "<Figure size 432x288 with 1 Axes>"
      ]
     },
     "metadata": {
      "needs_background": "light"
     },
     "output_type": "display_data"
    },
    {
     "data": {
      "image/png": "[encoded data removed]",
      "text/plain": [
       "<Figure size 432x288 with 1 Axes>"
      ]
     },
     "metadata": {
      "needs_background": "light"
     },
     "output_type": "display_data"
    }
   ],
   "source": [
    "#Predicted 2 labels but truely 5 label Speed limit 80km/h\n",
    "showImage(allDataInDict['x_test'][1398])\n",
    "showImage(allDataInDict['x_test'][2146])\n",
    "showImage(allDataInDict['x_test'][2776])\n",
    "showImage(allDataInDict['x_test'][2897])\n",
    "showImage(allDataInDict['x_test'][3567])\n",
    "#True 2 label 50km/h\n",
    "showImage(allDataInDict['x_test'][2558])"
   ]
  },
  {
   "cell_type": "markdown",
   "metadata": {},
   "source": [
    "The true label is 80KM/H sign but the model kept predicting 50KM/H.\n",
    "1. Both signs have the exact same shape and abstract design.\n",
    "2. I can understand how the model can possibly confuse an 8 for a 5 and thus why it uses this prediction"
   ]
  },
  {
   "cell_type": "code",
   "execution_count": 72,
   "metadata": {},
   "outputs": [
    {
     "data": {
      "image/png": "[encoded data removed]",
      "text/plain": [
       "<Figure size 432x288 with 1 Axes>"
      ]
     },
     "metadata": {
      "needs_background": "light"
     },
     "output_type": "display_data"
    },
    {
     "data": {
      "image/png": "[encoded data removed]",
      "text/plain": [
       "<Figure size 432x288 with 1 Axes>"
      ]
     },
     "metadata": {
      "needs_background": "light"
     },
     "output_type": "display_data"
    },
    {
     "data": {
      "image/png": "[encoded data removed]",
      "text/plain": [
       "<Figure size 432x288 with 1 Axes>"
      ]
     },
     "metadata": {
      "needs_background": "light"
     },
     "output_type": "display_data"
    },
    {
     "data": {
      "image/png": "[encoded data removed]",
      "text/plain": [
       "<Figure size 432x288 with 1 Axes>"
      ]
     },
     "metadata": {
      "needs_background": "light"
     },
     "output_type": "display_data"
    },
    {
     "data": {
      "image/png": "[encoded data removed]",
      "text/plain": [
       "<Figure size 432x288 with 1 Axes>"
      ]
     },
     "metadata": {
      "needs_background": "light"
     },
     "output_type": "display_data"
    },
    {
     "data": {
      "image/png": "[encoded data removed]",
      "text/plain": [
       "<Figure size 432x288 with 1 Axes>"
      ]
     },
     "metadata": {
      "needs_background": "light"
     },
     "output_type": "display_data"
    }
   ],
   "source": [
    "#Predicted 31 labels but truely 21 label Double curve\n",
    "showImage(allDataInDict['x_test'][70])\n",
    "showImage(allDataInDict['x_test'][595])\n",
    "showImage(allDataInDict['x_test'][1383])\n",
    "showImage(allDataInDict['x_test'][2747])\n",
    "showImage(allDataInDict['x_test'][2910])\n",
    "#True 31 label Wild animals crossing\n",
    "showImage(allDataInDict['x_test'][9543])"
   ]
  },
  {
   "cell_type": "markdown",
   "metadata": {},
   "source": [
    "The true label is Double Curve sign but the model kept predicting Animal Crossing\n",
    "1. Both signs have the exact same shape\n",
    "2. It looks like there's 2 types of Double curve sign. One that is all white and one that is white and red.\n",
    "3. I can see how the model is confused given there seem to be 2 types of double curve signs and that the shapes of the signs are similar."
   ]
  },
  {
   "cell_type": "code",
   "execution_count": 74,
   "metadata": {},
   "outputs": [
    {
     "data": {
      "image/png": "[encoded data removed]",
      "text/plain": [
       "<Figure size 432x288 with 1 Axes>"
      ]
     },
     "metadata": {
      "needs_background": "light"
     },
     "output_type": "display_data"
    },
    {
     "data": {
      "image/png": "[encoded data removed]",
      "text/plain": [
       "<Figure size 432x288 with 1 Axes>"
      ]
     },
     "metadata": {
      "needs_background": "light"
     },
     "output_type": "display_data"
    },
    {
     "data": {
      "image/png": "[encoded data removed]",
      "text/plain": [
       "<Figure size 432x288 with 1 Axes>"
      ]
     },
     "metadata": {
      "needs_background": "light"
     },
     "output_type": "display_data"
    },
    {
     "data": {
      "image/png": "[encoded data removed]",
      "text/plain": [
       "<Figure size 432x288 with 1 Axes>"
      ]
     },
     "metadata": {
      "needs_background": "light"
     },
     "output_type": "display_data"
    },
    {
     "data": {
      "image/png": "[encoded data removed]",
      "text/plain": [
       "<Figure size 432x288 with 1 Axes>"
      ]
     },
     "metadata": {
      "needs_background": "light"
     },
     "output_type": "display_data"
    },
    {
     "data": {
      "image/png": "[encoded data removed]",
      "text/plain": [
       "<Figure size 432x288 with 1 Axes>"
      ]
     },
     "metadata": {
      "needs_background": "light"
     },
     "output_type": "display_data"
    }
   ],
   "source": [
    "#Predicted 31 labels but truely 18 label General caution\n",
    "showImage(allDataInDict['x_test'][453])\n",
    "showImage(allDataInDict['x_test'][746])\n",
    "showImage(allDataInDict['x_test'][1114])\n",
    "showImage(allDataInDict['x_test'][1463])\n",
    "showImage(allDataInDict['x_test'][1982])\n",
    "#True 31 label Wild animals crossing\n",
    "showImage(allDataInDict['x_test'][9543])"
   ]
  },
  {
   "cell_type": "markdown",
   "metadata": {},
   "source": [
    "The true label is a General caution sign but the model kept predicting Animal Crossing\n",
    "1. Both signs have the exact same shape and abstract design.\n",
    "2. Some of the general caution signs are hard for even me to discern so I can see how the model may have trouble correctly classifying them. \n",
    "3. I can see how the model is confused given there seem to be 2 types of double curve signs and that the shapes of the signs are similar."
   ]
  },
  {
   "cell_type": "code",
   "execution_count": 75,
   "metadata": {},
   "outputs": [
    {
     "data": {
      "text/plain": [
       "18    70\n",
       "30    48\n",
       "5     47\n",
       "21    34\n",
       "4     27\n",
       "6     26\n",
       "27    26\n",
       "25    25\n",
       "8     24\n",
       "12    18\n",
       "26    18\n",
       "11    16\n",
       "9     15\n",
       "20    15\n",
       "28    14\n",
       "7     11\n",
       "3     11\n",
       "1     11\n",
       "2     10\n",
       "24    10\n",
       "40     9\n",
       "35     7\n",
       "10     7\n",
       "41     6\n",
       "42     4\n",
       "13     4\n",
       "22     4\n",
       "23     4\n",
       "31     3\n",
       "32     2\n",
       "0      2\n",
       "14     1\n",
       "17     1\n",
       "33     1\n",
       "34     1\n",
       "38     1\n",
       "39     1\n",
       "Name: 0, dtype: int64"
      ]
     },
     "execution_count": 75,
     "metadata": {},
     "output_type": "execute_result"
    }
   ],
   "source": [
    "#Below checks to see the type of class that was mis-classified the most\n",
    "df1=pd.DataFrame([trueLabels[index] for index,a in enumerate(differences) if a!=0])\n",
    "df1[0].value_counts()"
   ]
  },
  {
   "cell_type": "code",
   "execution_count": 76,
   "metadata": {},
   "outputs": [
    {
     "data": {
      "image/png": "[encoded data removed]",
      "text/plain": [
       "<Figure size 432x288 with 1 Axes>"
      ]
     },
     "metadata": {
      "needs_background": "light"
     },
     "output_type": "display_data"
    }
   ],
   "source": [
    "plt.hist([trueLabels[index] for index,a in enumerate(differences) if a!=0],bins=43)\n",
    "plt.xlabel(\"Index Class\")\n",
    "plt.ylabel(\"Count\")\n",
    "plt.title(\"Classes of Incorrect Predictions\")\n",
    "plt.show()"
   ]
  },
  {
   "cell_type": "code",
   "execution_count": 82,
   "metadata": {},
   "outputs": [
    {
     "data": {
      "text/plain": [
       "27.0    43.333333\n",
       "21.0    37.777778\n",
       "30.0    32.000000\n",
       "18.0    17.948718\n",
       "6.0     17.333333\n",
       "20.0    16.666667\n",
       "24.0    11.111111\n",
       "40.0    10.000000\n",
       "41.0    10.000000\n",
       "26.0    10.000000\n",
       "28.0     9.333333\n",
       "5.0      7.460317\n",
       "8.0      5.333333\n",
       "25.0     5.208333\n",
       "42.0     4.444444\n",
       "4.0      4.090909\n",
       "11.0     3.809524\n",
       "0.0      3.333333\n",
       "22.0     3.333333\n",
       "32.0     3.333333\n",
       "9.0      3.125000\n",
       "23.0     2.666667\n",
       "12.0     2.608696\n",
       "7.0      2.444444\n",
       "3.0      2.444444\n",
       "35.0     1.794872\n",
       "1.0      1.527778\n",
       "2.0      1.333333\n",
       "39.0     1.111111\n",
       "31.0     1.111111\n",
       "10.0     1.060606\n",
       "34.0     0.833333\n",
       "13.0     0.555556\n",
       "33.0     0.476190\n",
       "14.0     0.370370\n",
       "17.0     0.277778\n",
       "38.0     0.144928\n",
       "15.0          NaN\n",
       "16.0          NaN\n",
       "19.0          NaN\n",
       "29.0          NaN\n",
       "36.0          NaN\n",
       "37.0          NaN\n",
       "Name: 0, dtype: float64"
      ]
     },
     "execution_count": 82,
     "metadata": {},
     "output_type": "execute_result"
    }
   ],
   "source": [
    "#The below gives the percentages of False predictions by class\n",
    "(df1[0].value_counts()/dfTest.value_counts()).sort_values(ascending=False)*100"
   ]
  },
  {
   "cell_type": "markdown",
   "metadata": {},
   "source": [
    "Relatively, the model is doing really badly at identifying Pedestrian, Double Curve and Beware of ice/snow signs.\n",
    "\n",
    "Overall the model passes the initial target of 95% accuracy across all 3 datasets but there does seem to be room for improvement in the incorrect classes previously mentioned. The next steps could be to see if PCA or image whitening preprocessing can help with improvement, especially on the badly mislabeled classes."
   ]
  },
  {
   "cell_type": "code",
   "execution_count": null,
   "metadata": {},
   "outputs": [],
   "source": []
  }
 ],
 "metadata": {
  "kernelspec": {
   "display_name": "Python 3",
   "language": "python",
   "name": "python3"
  },
  "language_info": {
   "codemirror_mode": {
    "name": "ipython",
    "version": 3
   },
   "file_extension": ".py",
   "mimetype": "text/x-python",
   "name": "python",
   "nbconvert_exporter": "python",
   "pygments_lexer": "ipython3",
   "version": "3.7.3"
  }
 },
 "nbformat": 4,
 "nbformat_minor": 2
}
